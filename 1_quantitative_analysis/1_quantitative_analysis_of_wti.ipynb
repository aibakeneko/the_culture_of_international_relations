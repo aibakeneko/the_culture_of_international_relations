{
 "cells": [
  {
   "cell_type": "markdown",
   "metadata": {},
   "source": [
    "### The Culture of International Relations\n",
    "\n",
    "#### About this project\n",
    "Cultural treaties are the bi-lateral and multilateral agreements among states that promote and regulate cooperation and exchange in the fields of life generally call cultural or intellectual. Although it was only invented in the early twentieth century, this treaty type came to be the fourth most common bilateral treaty in the period 1900-1980 (Poast et al., 2010). In this project, we seek to use several (mostly European) states’ cultural treaties as a historical source with which to explore the emergence of a global concept of culture in the twentieth century. Specifically, the project will investigate the hypothesis that the culture concept, in contrast to earlier ideas of civilization, played a key role in the consolidation of the post-World War II international order.\n",
    "\n",
    "The central questions that interest me here can be divided into two groups: \n",
    "- First, what is the story of the cultural treaty, as a specific tool of international relations, in the twentieth century? What was the historical curve of cultural treaty-making? For example, in which political or ideological constellations do we find (the most) use of cultural treaties? Among which countries, in which historical periods? What networks of relations were thereby created, reinforced, or challenged? \n",
    "- Second, what is the \"culture\" addressed in these treaties? That is, what do the two signatories seem to mean by \"culture\" in these documents, and what does that tell us about the role that concept played in the international system? How can quantitative work on this dataset advance research questions about the history of concepts?\n",
    "\n",
    "In this notebook, we deal with these treaties in three ways:\n",
    "1) quantitative analysis of \"metadata\" about all bilateral cultural treaties signed betweeen 1919 and 1972, as found in the World Treaty Index or WTI (Poast et al., 2010).\n",
    "    For more on how exactly we define a \"cultural treaty\" here, and on other principles of selection, see... [add this, using text now in \"WTI quality assurance\"].\n",
    "2) network analysis of the system of international relationships created by these treaties (using data from WTI, as above).\n",
    "3) Text analysis of the complete texts of selected treaties. \n",
    "\n",
    "After some set-up sections, the discussion of the material begins at \"Part 1,\" below."
   ]
  },
  {
   "cell_type": "code",
   "execution_count": 1,
   "metadata": {
    "code_folding": [
     0
    ]
   },
   "outputs": [
    {
     "data": {
      "text/html": [
       "<style>\n",
       ".jupyter-widgets { font-size: 8pt; }\n",
       ".widget-label { font-size: 8pt;}\n",
       ".widget-vbox .widget-label { width: 60px; }\n",
       ".widget-dropdown > select { font-size: 8pt; }\n",
       ".widget-select > select { font-size: 8pt; }\n",
       ".widget-toggle-buttons .widget-toggle-button {\n",
       "    font-size: 8pt;\n",
       "    width: 100px;\n",
       "}\n",
       "</style>\n"
      ],
      "text/plain": [
       "<IPython.core.display.HTML object>"
      ]
     },
     "metadata": {},
     "output_type": "display_data"
    }
   ],
   "source": [
    "%%html\n",
    "<style>\n",
    ".jupyter-widgets { font-size: 8pt; }\n",
    ".widget-label { font-size: 8pt;}\n",
    ".widget-vbox .widget-label { width: 60px; }\n",
    ".widget-dropdown > select { font-size: 8pt; }\n",
    ".widget-select > select { font-size: 8pt; }\n",
    ".widget-toggle-buttons .widget-toggle-button {\n",
    "    font-size: 8pt;\n",
    "    width: 100px;\n",
    "}\n",
    "</style>"
   ]
  },
  {
   "cell_type": "markdown",
   "metadata": {},
   "source": [
    "### <span style='color:blue'>**Mandatory Prepare Step**</span>: Setup Notebook and Load and Process Treaty Master Index\n",
    "The following code cell to be executed once for each user session."
   ]
  },
  {
   "cell_type": "code",
   "execution_count": 46,
   "metadata": {
    "code_folding": []
   },
   "outputs": [
    {
     "name": "stdout",
     "output_type": "stream",
     "text": [
      "The autoreload extension is already loaded. To reload it, use:\n",
      "  %reload_ext autoreload\n"
     ]
    },
    {
     "name": "stderr",
     "output_type": "stream",
     "text": [
      "2018-10-12 16:02:21,782 : INFO : Data loaded!\n"
     ]
    }
   ],
   "source": [
    "# Code Cell Setup\n",
    "%load_ext autoreload\n",
    "%autoreload 2\n",
    "\n",
    "import os\n",
    "import warnings\n",
    "import ipywidgets as widgets\n",
    "import pandas as pd\n",
    "from IPython.display import display, HTML\n",
    "\n",
    "os.sys.path = os.sys.path if '..' in os.sys.path else os.sys.path + ['..']\n",
    "warnings.filterwarnings('ignore')\n",
    "\n",
    "import common.config as config\n",
    "import common.utility as utility\n",
    "\n",
    "from common import getLogger, StaticColorMap\n",
    "from common.treaty_state import load_wti_index\n",
    "from analysis_plot import quantity_plot, prepare_plot_kwargs, create_party_name_map, default_palette\n",
    "from analysis_data import QuantityByParty, QuantityByTopic\n",
    "\n",
    "import party_analysis_gui\n",
    "\n",
    "logger = getLogger(name='cultural_treaties')\n",
    "wti_index = load_wti_index('../data')\n",
    "\n",
    "%matplotlib inline\n",
    "\n",
    "static_color_map = StaticColorMap(default_palette)\n",
    "party_name_map, party_color_map = create_party_name_map(wti_index.parties)\n"
   ]
  },
  {
   "cell_type": "markdown",
   "metadata": {},
   "source": [
    "### Chart: Treaty Quantities by Selected Parties \n",
    "This chart displays the number of treaties per time period for each party or group of parties. The time period can be year or one of a predefined set of time period divisions. The default time period division is 1919-1944, 1945-1955, 1956-1966, and 1967-1972, the alternative division has 1940-1944 as an additional period. The third division is a single period between 1945 and 1972 (inclusive)\n",
    "\n",
    "Several parties can be selected using CTRL + click on left mouse button. Shift-Up/Down can also be used to select consecutive parties. Some predefined party sets exist in the \"Preset\" dropdown, and, when selected, the corresponding parties is selected in the \"Parties\" widget. Use the \"Top #n\" slider to display parties with most treaties for each period. Note that a value greater than 0 will disable the \"Parties\" widget since these to selections are mutually exclusive. Set slider back to 0 to enable the \"Parties\" widget.\n",
    "\n",
    "The treaty count is based on the following rules:\n",
    "- Treaties outside of selected division are discarded\n",
    "- When \"Is Cultural\" is selected than the only treaties included are those having \"is cultural\" flag in WTI index set to \"Yes\" \n",
    "- When \"Topic is 7CULT\" is selected than all treaties having topic equal to 7CULT are included using original topic value according to WTI i.e. no recoding!\n",
    "- Candidate for removal: When \"No filter\" is selected then no topic filter is applied\n",
    "\n",
    "The topic filter also restricts the extra category count added when \"Other category\" or \"All category\" are selected. When \"Other\" is selected, than the \"complement\" count of the sum of all countries not included is added as a category, and the \"All\" category adds the count of all treaties. Note again, that both these counts are restricted by time period (no treaty outside period), and selected topic filter.\n",
    "\n",
    "Also note that when several countries are selected, than the count for a given country is the count of all treaties that country signed for each time period (filtered by topic selection). Each of the treaties that are signed *between* two of the selected parties will hence add +1 for each of the two parties.\n",
    "\n",
    "* FIXAD: Display% smäller\n",
    "* FIXAD: Add RANGE FILTER on  year\n",
    "* Etiketter Y-axel visas ej korrekt för höga värden"
   ]
  },
  {
   "cell_type": "code",
   "execution_count": 63,
   "metadata": {
    "code_folding": [
     0
    ],
    "scrolled": false
   },
   "outputs": [
    {
     "data": {
      "application/vnd.jupyter.widget-view+json": {
       "model_id": "a8e76b0fce634f159fcc3913498ee6cf",
       "version_major": 2,
       "version_minor": 0
      },
      "text/plain": [
       "VBox(children=(HBox(children=(VBox(children=(Dropdown(description='Divisions', index=3, layout=Layout(width='2…"
      ]
     },
     "metadata": {},
     "output_type": "display_data"
    }
   ],
   "source": [
    "# Code Cell\n",
    "\n",
    "def display_quantity_by_party(\n",
    "    period_group_index=0,\n",
    "    party_name='',\n",
    "    parties=None,\n",
    "    year_limit=None,\n",
    "    treaty_filter='',\n",
    "    extra_category='',\n",
    "    normalize_values=False,\n",
    "    chart_type_name=None,\n",
    "    plot_style='classic',\n",
    "    top_n_parties=5,\n",
    "    overlay=True,\n",
    "    progress=utility.noop\n",
    "):\n",
    "    try:\n",
    "        \n",
    "        progress()\n",
    "\n",
    "        period_group = config.DEFAULT_PERIOD_GROUPS[period_group_index]\n",
    "        chart_type = config.CHART_TYPE_MAP[chart_type_name]\n",
    "        period_column = period_group['column']\n",
    "        \n",
    "        parties = list(parties)\n",
    "        \n",
    "        data = QuantityByParty.get_treaties_statistics(\n",
    "            wti_index,\n",
    "            period_group=period_group,\n",
    "            party_name=party_name,\n",
    "            parties=parties,\n",
    "            treaty_filter=treaty_filter,\n",
    "            extra_category=extra_category,\n",
    "            n_top=top_n_parties,\n",
    "            year_limit=year_limit\n",
    "        )\n",
    "        \n",
    "        progress()\n",
    "        \n",
    "        if data.shape[0] == 0:\n",
    "            print('No data for selection')\n",
    "            return\n",
    "\n",
    "        pivot = pd.pivot_table(data, index=['Period'], values=[\"Count\"], columns=['Party'], fill_value=0)\n",
    "        pivot.columns = [ x[-1] for x in pivot.columns ]\n",
    "    \n",
    "        if normalize_values is True:\n",
    "            pivot = pivot.div(0.01 * pivot.sum(1), axis=0)\n",
    "            data['Count'] = data.groupby(['Period']).transform(lambda x: 100.0 * (x / x.sum()))\n",
    "\n",
    "        progress()\n",
    "        \n",
    "        if chart_type.name.startswith('plot'):\n",
    "            \n",
    "            columns = pivot.columns\n",
    "            pivot = pivot.reset_index()[columns]\n",
    "            colors = static_color_map.get_palette(columns)\n",
    "\n",
    "            kwargs = prepare_plot_kwargs(pivot, chart_type, normalize_values, period_group)\n",
    "            \n",
    "            kwargs.update(dict(overlay=overlay, colors=colors))\n",
    "            \n",
    "            progress()\n",
    "           \n",
    "            quantity_plot(data, pivot, chart_type, plot_style, **kwargs)\n",
    "\n",
    "        elif chart_type.name == 'table':\n",
    "            display(data)\n",
    "        else:\n",
    "            display(pivot)\n",
    "\n",
    "        progress()\n",
    "\n",
    "    except Exception as ex:\n",
    "        logger.error(ex)\n",
    "        raise\n",
    "    finally:\n",
    "        progress(0)\n",
    "\n",
    "party_analysis_gui.display_gui(wti_index, display_quantity_by_party)\n"
   ]
  },
  {
   "cell_type": "markdown",
   "metadata": {},
   "source": [
    "Example on how to create a chart, in code, using a pre-defined parameter setup:\n",
    "```python\n",
    "args = {\n",
    "    'overlay': True,\n",
    "    'top_n_parties': 0,\n",
    "    'plot_style': 'seaborn-pastel',\n",
    "    'chart_type_name': 'plot_stacked_bar',\n",
    "    'normalize_values': False,\n",
    "    'extra_category': '',\n",
    "    'treaty_filter': 'is_cultural',\n",
    "    'year_limit': (1945, 1972),\n",
    "    'parties': ('FRANCE', 'SWEDEN'),\n",
    "    'period_group_index': 3,\n",
    "    'party_name': 'party_name'\n",
    "}\n",
    "display_quantity_by_party(**args)\n",
    "```"
   ]
  },
  {
   "cell_type": "markdown",
   "metadata": {},
   "source": [
    "###  Chart: Treaty Quantities by Selected Topics\n",
    "This chart displays the number of treaties per selected category and time period. The category can be wither topic or party. Only treaties signed by one of the selected parties are included in the count (unless either of ALL OTHER or ALL is selected, see below).\n",
    "\n",
    "See previous chart for a description of \"period\" and \"parties\" options (the same rules apply in this chart).\n",
    "\n",
    "Topics **not** specified in the selected \"Category\" are as default **excluded** from the counts. If the \"Add OTHER topics\" toggle is set then a new \"OTHER\" category is added as a summed up count for topics outside the selected topic category. \n",
    "\n",
    "Note that, as default when the \"Recode 7CORR\" is set, all treaties marked as \"is_cultural\" = \"Yes\" in the WTI index are assigned a new topic code \"7CORR\". The remaining treaties ´having topic 7CULT are not recoded (will keep this code).\n",
    "\n",
    "When the \"Chart per Qty\" toggle is set, then a seperate chart is created for each category (of selected Quantity). Please not that this might take some time if, if the category selection contains many items. Extra charts will also be created for **excluded** category items (i.e. parties not selected or topics not included in topic category) if either of the \"ALL OTHER\" or \"ALL\" party items are selected. In both cases the category filter is applies as for any other chart.\n",
    "\n",
    "The topic categories are defined in file **.\\common\\config.py** in the \"category_group_settings\" and is common to all notebooks. A topic category has the following the structure\n",
    "```python\n",
    "category_group_settings = {\n",
    "    'category-group-name': {\n",
    "        'category-item-1': [list-of-topic-codes-in-category-1],\n",
    "        'category-item-2': [list-of-topic-codes-in-category-2],\n",
    "        ...\n",
    "        'category-item-n': [list-of-topic-codes-in-category-n]\n",
    "    },\n",
    "```\n",
    "The **category-group-name**s will be visible in the \"Category\" dropdown list, and it is hence important for these names to be unique. It can be an arbitrary name. The **category-item**s is the name that will be visible on the chart legend as label for associated list of topic-codes. The **list-of-topic-codes**, finally, must be a list of valid topic codes in the WTI-index (+ 7CORR). Note that these lists within the same category-group should be mutually exclusive i.e. the same code should not be added to more than one group (will give an unpredicted result). Also note that correct braces **must** be used, and strings **must** be surrounded by \"'\", and all topic codes must also be in uppercase. Follow the same syntax as in the existing specifications. "
   ]
  },
  {
   "cell_type": "code",
   "execution_count": 48,
   "metadata": {
    "code_folding": [],
    "scrolled": false
   },
   "outputs": [
    {
     "data": {
      "application/vnd.jupyter.widget-view+json": {
       "model_id": "1aedf2e582384a3e8dbc8b4eb82f924e",
       "version_major": 2,
       "version_minor": 0
      },
      "text/plain": [
       "VBox(children=(HBox(children=(VBox(children=(Dropdown(description='Divisions', index=3, layout=Layout(width='2…"
      ]
     },
     "metadata": {},
     "output_type": "display_data"
    }
   ],
   "source": [
    "# Code Cell\n",
    "\n",
    "def display_topic_quantity(\n",
    "    period_group=0,\n",
    "    topic_group=None,\n",
    "    party_group=None,\n",
    "    recode_is_cultural=False,\n",
    "    normalize_values=False,\n",
    "    extra_other_category=False,\n",
    "    chart_type_name=None,\n",
    "    plot_style='classic',\n",
    "    target_quantity=\"topic\",\n",
    "    progress=utility.noop\n",
    "):\n",
    "    try:\n",
    "        \n",
    "        progress()\n",
    "        \n",
    "        chart_type = config.CHART_TYPE_MAP[chart_type_name]\n",
    "        \n",
    "        period_column = period_group['column']\n",
    "        \n",
    "        data = QuantityByTopic.get_treaty_topic_quantity_stat(\n",
    "            wti_index, period_group, topic_group, party_group, recode_is_cultural, extra_other_category, target_quantity\n",
    "        )\n",
    "        \n",
    "        if data is None:\n",
    "            return\n",
    "        \n",
    "        progress()\n",
    "        \n",
    "        pivot = pd.pivot_table(data, index=['Period'], values=[\"Count\"], columns=['Category'], fill_value=0)\n",
    "        pivot.columns = [ x[-1] for x in pivot.columns ]\n",
    "\n",
    "        if normalize_values is True:\n",
    "            pivot = pivot.div(0.01 * pivot.sum(1), axis=0)\n",
    "\n",
    "        if chart_type.name.startswith('plot'):\n",
    "            \n",
    "            columns = pivot.columns\n",
    "            pivot = pivot.reset_index()[columns]\n",
    "\n",
    "            kwargs = prepare_plot_kwargs(pivot, chart_type, normalize_values, period_group)\n",
    "            progress()\n",
    "            #kwargs.update(dict(overlay=overlay, colors=colors))\n",
    "            kwargs.update(dict(title=party_group['label']))\n",
    "            quantity_plot(data, pivot, chart_type, plot_style, **kwargs)\n",
    "\n",
    "        elif chart_type.name == 'table':\n",
    "            display(data)\n",
    "        else:\n",
    "            display(pivot)\n",
    "            \n",
    "        progress()\n",
    "        \n",
    "    except Exception as ex:\n",
    "        logger.error(ex)\n",
    "        raise\n",
    "    finally:\n",
    "        progress(0)\n",
    "\n",
    "def party_group_label(parties):\n",
    "    return ', '.join(parties[:6]) + ('' if len(parties) <= 6 else ' +{} parties'.format(len(parties)-6))\n",
    "    \n",
    "def display_topic_quantity_groups(\n",
    "        period_group_index,\n",
    "        topic_group_name,\n",
    "        recode_is_cultural=False,\n",
    "        normalize_values=False,\n",
    "        extra_other_category=None,\n",
    "        chart_type_name=None,\n",
    "        plot_style='classic',\n",
    "        parties=None,\n",
    "        chart_per_category=False,\n",
    "        target_quantity=\"topic\",\n",
    "        progress=None\n",
    "    ):\n",
    "    \n",
    "    period_group = config.DEFAULT_PERIOD_GROUPS[period_group_index]\n",
    "    topic_group = config.TOPIC_GROUP_MAPS[topic_group_name]\n",
    "    topic_groups = [ topic_group ]\n",
    "    wti_parties = [ x for x in parties if x not in ['ALL', 'ALL OTHER' ] ]\n",
    "    \n",
    "    if target_quantity == 'party':\n",
    "        party_groups = [ { 'label': topic_group_name, 'parties': wti_parties } ]\n",
    "        if chart_per_category:\n",
    "            topic_groups = [ { k: { k: topic_group[k] }} for k in topic_group.keys() ]\n",
    "    else:\n",
    "        if not chart_per_category:\n",
    "            if 'ALL' in parties:\n",
    "                party_groups = [ { 'label': 'ALL', 'parties': None } ]\n",
    "            else:\n",
    "                party_groups = [ { 'label': party_group_label(parties), 'parties': wti_parties } ]\n",
    "        else:\n",
    "            party_groups = [ { 'label': x, 'parties': [ x ] if x != 'ALL OTHER' else parties } for x in parties ] \n",
    "\n",
    "    for p_g in party_groups:\n",
    "        for t_c in topic_groups:\n",
    "            display_topic_quantity(\n",
    "                period_group=period_group,\n",
    "                party_group=p_g,\n",
    "                topic_group=t_c,\n",
    "                recode_is_cultural=recode_is_cultural,\n",
    "                normalize_values=normalize_values,\n",
    "                extra_other_category=extra_other_category,\n",
    "                chart_type_name=chart_type_name,\n",
    "                plot_style=plot_style,\n",
    "                target_quantity=target_quantity,\n",
    "                progress=progress\n",
    "            )\n",
    "\n",
    "    \n",
    "topic_analysis_gui.display_gui(wti_index, display_topic_quantity_groups)"
   ]
  },
  {
   "cell_type": "code",
   "execution_count": 67,
   "metadata": {},
   "outputs": [
    {
     "data": {
      "text/plain": [
       "1919"
      ]
     },
     "execution_count": 67,
     "metadata": {},
     "output_type": "execute_result"
    }
   ],
   "source": [
    "min((1919, 1939))"
   ]
  },
  {
   "cell_type": "code",
   "execution_count": 74,
   "metadata": {},
   "outputs": [
    {
     "data": {
      "application/vnd.jupyter.widget-view+json": {
       "model_id": "bc1b882765fb4076b968225497d0b1fc",
       "version_major": 2,
       "version_minor": 0
      }
     },
     "metadata": {},
     "output_type": "display_data"
    }
   ],
   "source": [
    "wti_index.treaties.head()"
   ]
  },
  {
   "cell_type": "code",
   "execution_count": 5,
   "metadata": {},
   "outputs": [
    {
     "data": {
      "text/plain": [
       "[(0, 'a'), (1, 'b')]"
      ]
     },
     "execution_count": 5,
     "metadata": {},
     "output_type": "execute_result"
    }
   ],
   "source": [
    "list(enumerate(['a', 'b']))"
   ]
  },
  {
   "cell_type": "code",
   "execution_count": null,
   "metadata": {},
   "outputs": [],
   "source": [
    "list"
   ]
  }
 ],
 "metadata": {
  "kernelspec": {
   "display_name": "Python 3",
   "language": "python",
   "name": "python3"
  },
  "language_info": {
   "codemirror_mode": {
    "name": "ipython",
    "version": 3
   },
   "file_extension": ".py",
   "mimetype": "text/x-python",
   "name": "python",
   "nbconvert_exporter": "python",
   "pygments_lexer": "ipython3",
   "version": "3.6.6"
  },
  "toc": {
   "base_numbering": 1,
   "nav_menu": {},
   "number_sections": false,
   "sideBar": false,
   "skip_h1_title": false,
   "title_cell": "Table of Contents",
   "title_sidebar": "Contents",
   "toc_cell": false,
   "toc_position": {},
   "toc_section_display": false,
   "toc_window_display": false
  },
  "varInspector": {
   "cols": {
    "lenName": 16,
    "lenType": 16,
    "lenVar": 40
   },
   "kernels_config": {
    "python": {
     "delete_cmd_postfix": "",
     "delete_cmd_prefix": "del ",
     "library": "var_list.py",
     "varRefreshCmd": "print(var_dic_list())"
    },
    "r": {
     "delete_cmd_postfix": ") ",
     "delete_cmd_prefix": "rm(",
     "library": "var_list.r",
     "varRefreshCmd": "cat(var_dic_list()) "
    }
   },
   "oldHeight": 655.4,
   "position": {
    "height": "886px",
    "left": "1049px",
    "right": "20px",
    "top": "110px",
    "width": "654px"
   },
   "types_to_exclude": [
    "module",
    "function",
    "builtin_function_or_method",
    "instance",
    "_Feature"
   ],
   "varInspector_section_display": "block",
   "window_display": false
  }
 },
 "nbformat": 4,
 "nbformat_minor": 2
}
