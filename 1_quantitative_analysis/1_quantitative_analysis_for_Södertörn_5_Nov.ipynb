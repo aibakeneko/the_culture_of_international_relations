{
 "cells": [
  {
   "cell_type": "markdown",
   "metadata": {},
   "source": [
    "### The Culture of International Relations\n",
    "\n",
    "#### About this project\n",
    "Cultural treaties are the bi-lateral and multilateral agreements among states that promote and regulate cooperation and exchange in the fields of life generally call cultural or intellectual. Although it was only invented in the early twentieth century, this treaty type came to be the fourth most common bilateral treaty in the period 1900-1980 (Poast et al., 2010). In this project, we seek to use the world's cultural treaties as a historical source with which to explore the emergence of a global concept of culture in the twentieth century. Specifically, the project will investigate the hypothesis that the culture concept, in contrast to earlier ideas of civilization, played a key role in the consolidation of the post-World War II international order.\n",
    "\n",
    "The central questions that interest me here can be divided into two groups: \n",
    "- First, what is the story of the cultural treaty, as a specific tool of international relations, in the twentieth century? What was the historical curve of cultural treaty-making? For example, in which political or ideological constellations do we find (the most) use of cultural treaties? Among which countries, in which historical periods? What networks of relations were thereby created, reinforced, or challenged? \n",
    "- Second, what is the \"culture\" addressed in these treaties? That is, what do the two signatories seem to mean by \"culture\" in these documents, and what does that tell us about the role that concept played in the international system? How can quantitative work on this dataset advance research questions about the history of concepts?\n",
    "\n",
    "In this notebook, we focus on the first of those questions, offering some preliminary quantitative analysis of the \"metadata\" about all bilateral cultural treaties signed betweeen 1919 and 1972, as found in the World Treaty Index (WTI). (On the World Treaty Index, see Poast et al., 2010). \n",
    "\n",
    "For more on how exactly we define a \"cultural treaty\" here, and on other principles of selection, see... [add this, using text now in \"WTI quality assurance\"].\n",
    "\n",
    "Later notebooks will address:\n",
    "2) network analysis of the system of international relationships created by these treaties (using data from WTI, as above).\n",
    "3) Text analysis of the complete texts of selected treaties. \n",
    "\n",
    "After some set-up sections, the discussion of the material begins at \"Part 1,\" below."
   ]
  },
  {
   "cell_type": "code",
   "execution_count": 1,
   "metadata": {
    "code_folding": [
     0
    ]
   },
   "outputs": [
    {
     "data": {
      "text/html": [
       "<style>\n",
       ".jupyter-widgets { font-size: 8pt; }\n",
       ".widget-label { font-size: 8pt;}\n",
       ".widget-vbox .widget-label { width: 60px; }\n",
       ".widget-dropdown > select { font-size: 8pt; }\n",
       ".widget-select > select { font-size: 8pt; }\n",
       ".widget-toggle-buttons .widget-toggle-button {\n",
       "    font-size: 8pt;\n",
       "    width: 100px;\n",
       "}\n",
       "</style>\n"
      ],
      "text/plain": [
       "<IPython.core.display.HTML object>"
      ]
     },
     "metadata": {},
     "output_type": "display_data"
    }
   ],
   "source": [
    "%%html\n",
    "<style>\n",
    ".jupyter-widgets { font-size: 8pt; }\n",
    ".widget-label { font-size: 8pt;}\n",
    ".widget-vbox .widget-label { width: 60px; }\n",
    ".widget-dropdown > select { font-size: 8pt; }\n",
    ".widget-select > select { font-size: 8pt; }\n",
    ".widget-toggle-buttons .widget-toggle-button {\n",
    "    font-size: 8pt;\n",
    "    width: 100px;\n",
    "}\n",
    "</style>"
   ]
  },
  {
   "cell_type": "markdown",
   "metadata": {},
   "source": [
    "### <span style='color:blue'>**Mandatory Prepare Step**</span>: Setup Notebook and Load and Process Treaty Master Index\n",
    "The following code cell to be executed once for each user session."
   ]
  },
  {
   "cell_type": "code",
   "execution_count": 1,
   "metadata": {
    "code_folding": []
   },
   "outputs": [
    {
     "ename": "ImportError",
     "evalue": "cannot import name 'default_palette'",
     "output_type": "error",
     "traceback": [
      "\u001b[0;31m---------------------------------------------------------------------------\u001b[0m",
      "\u001b[0;31mImportError\u001b[0m                               Traceback (most recent call last)",
      "\u001b[0;32m<ipython-input-1-78f1615d74da>\u001b[0m in \u001b[0;36m<module>\u001b[0;34m\u001b[0m\n\u001b[1;32m     19\u001b[0m \u001b[0;32mfrom\u001b[0m \u001b[0mcommon\u001b[0m\u001b[0;34m.\u001b[0m\u001b[0mtreaty_utility\u001b[0m \u001b[0;32mimport\u001b[0m \u001b[0mtrim_period_group\u001b[0m\u001b[0;34m\u001b[0m\u001b[0m\n\u001b[1;32m     20\u001b[0m \u001b[0;34m\u001b[0m\u001b[0m\n\u001b[0;32m---> 21\u001b[0;31m \u001b[0;32mfrom\u001b[0m \u001b[0manalysis_plot\u001b[0m \u001b[0;32mimport\u001b[0m \u001b[0mquantity_plot\u001b[0m\u001b[0;34m,\u001b[0m \u001b[0mprepare_plot_kwargs\u001b[0m\u001b[0;34m,\u001b[0m \u001b[0mcreate_party_name_map\u001b[0m\u001b[0;34m,\u001b[0m \u001b[0mdefault_palette\u001b[0m\u001b[0;34m\u001b[0m\u001b[0m\n\u001b[0m\u001b[1;32m     22\u001b[0m \u001b[0;32mfrom\u001b[0m \u001b[0manalysis_data\u001b[0m \u001b[0;32mimport\u001b[0m \u001b[0mQuantityByParty\u001b[0m\u001b[0;34m,\u001b[0m \u001b[0mQuantityByTopic\u001b[0m\u001b[0;34m\u001b[0m\u001b[0m\n\u001b[1;32m     23\u001b[0m \u001b[0;34m\u001b[0m\u001b[0m\n",
      "\u001b[0;31mImportError\u001b[0m: cannot import name 'default_palette'"
     ]
    }
   ],
   "source": [
    "# Code Cell Setup\n",
    "%load_ext autoreload\n",
    "%autoreload 2\n",
    "\n",
    "import os\n",
    "import warnings\n",
    "import ipywidgets as widgets\n",
    "import pandas as pd\n",
    "from IPython.display import display, HTML\n",
    "\n",
    "os.sys.path = os.sys.path if '..' in os.sys.path else os.sys.path + ['..']\n",
    "warnings.filterwarnings('ignore')\n",
    "\n",
    "import common.config as config\n",
    "import common.utility as utility\n",
    "\n",
    "from common import getLogger, StaticColorMap\n",
    "from common.treaty_state import load_wti_index\n",
    "from common.treaty_utility import trim_period_group\n",
    "\n",
    "from analysis_plot import quantity_plot, prepare_plot_kwargs, create_party_name_map, default_palette\n",
    "from analysis_data import QuantityByParty, QuantityByTopic\n",
    "\n",
    "import party_analysis_gui\n",
    "import topic_analysis_gui\n",
    "\n",
    "logger = getLogger(name='cultural_treaties')\n",
    "wti_index = load_wti_index('../data')\n",
    "\n",
    "%matplotlib inline\n",
    "\n",
    "static_color_map = StaticColorMap(default_palette)\n",
    "party_name_map, party_color_map = create_party_name_map(wti_index.parties)\n"
   ]
  },
  {
   "cell_type": "markdown",
   "metadata": {},
   "source": [
    "### Chart: Treaty Quantities by Selected Parties \n",
    "This chart displays the number of treaties per time period for each party or group of parties. The time period can be year or one of a predefined set of time period divisions. The default time period division is 1919-1944, 1945-1955, 1956-1966, and 1967-1972, the alternative division has 1940-1944 as an additional period. The third division is a single period between 1945 and 1972 (inclusive)\n",
    "\n",
    "Several parties can be selected using CTRL + click on left mouse button. Shift-Up/Down can also be used to select consecutive parties. Some predefined party sets exist in the \"Preset\" dropdown, and, when selected, the corresponding parties is selected in the \"Parties\" widget. Use the \"Top #n\" slider to display parties with most treaties for each period. Note that a value greater than 0 will disable the \"Parties\" widget since these to selections are mutually exclusive. Set slider back to 0 to enable the \"Parties\" widget.\n",
    "\n",
    "The treaty count is based on the following rules:\n",
    "- Treaties outside of selected division are discarded\n",
    "- When \"Is Cultural\" is selected than the only treaties included are those having \"is cultural\" flag in WTI index set to \"Yes\" \n",
    "- When \"Topic is 7CULT\" is selected than all treaties having topic equal to 7CULT are included using original topic value according to WTI i.e. no recoding!\n",
    "- Candidate for removal: When \"No filter\" is selected then no topic filter is applied\n",
    "\n",
    "The topic filter also restricts the extra category count added when \"Other category\" or \"All category\" are selected. When \"Other\" is selected, than the \"complement\" count of the sum of all countries not included is added as a category, and the \"All\" category adds the count of all treaties. Note again, that both these counts are restricted by time period (no treaty outside period), and selected topic filter.\n",
    "\n",
    "Also note that when several countries are selected, than the count for a given country is the count of all treaties that country signed for each time period (filtered by topic selection). Each of the treaties that are signed *between* two of the selected parties will hence add +1 for each of the two parties.\n"
   ]
  },
  {
   "cell_type": "markdown",
   "metadata": {},
   "source": [
    "Example on how to create a chart, in code, using a pre-defined parameter setup:\n",
    "<span style='font-size: 8pt'>\n",
    "```python\n",
    "args = {\n",
    "    'overlay': True,\n",
    "    'top_n_parties': 0,\n",
    "    'plot_style': 'seaborn-pastel',\n",
    "    'chart_type_name': 'plot_stacked_bar',\n",
    "    'normalize_values': False,\n",
    "    'extra_category': '',\n",
    "    'treaty_filter': 'is_cultural',\n",
    "    'year_limit': (1945, 1972),\n",
    "    'parties': ('FRANCE', 'SWEDEN'),\n",
    "    'period_group_index': 3,\n",
    "    'party_name': 'party_name'\n",
    "}\n",
    "display_quantity_by_party(**args)\n",
    "```\n",
    "</span>"
   ]
  },
  {
   "cell_type": "code",
   "execution_count": 3,
   "metadata": {},
   "outputs": [
    {
     "ename": "NameError",
     "evalue": "name 'display_quantity_by_party' is not defined",
     "output_type": "error",
     "traceback": [
      "\u001b[0;31m---------------------------------------------------------------------------\u001b[0m",
      "\u001b[0;31mNameError\u001b[0m                                 Traceback (most recent call last)",
      "\u001b[0;32m<ipython-input-3-dded5b65ff22>\u001b[0m in \u001b[0;36m<module>\u001b[0;34m\u001b[0m\n\u001b[1;32m     12\u001b[0m     \u001b[0;34m'party_name'\u001b[0m\u001b[0;34m:\u001b[0m \u001b[0;34m'party_name'\u001b[0m\u001b[0;34m\u001b[0m\u001b[0m\n\u001b[1;32m     13\u001b[0m }\n\u001b[0;32m---> 14\u001b[0;31m \u001b[0mdisplay_quantity_by_party\u001b[0m\u001b[0;34m(\u001b[0m\u001b[0;34m**\u001b[0m\u001b[0margs\u001b[0m\u001b[0;34m)\u001b[0m\u001b[0;34m\u001b[0m\u001b[0m\n\u001b[0m",
      "\u001b[0;31mNameError\u001b[0m: name 'display_quantity_by_party' is not defined"
     ]
    }
   ],
   "source": [
    "args = {\n",
    "    'overlay': True,\n",
    "    'top_n_parties': 0,\n",
    "    'plot_style': 'seaborn-pastel',\n",
    "    'chart_type_name': 'plot_stacked_bar',\n",
    "    'normalize_values': False,\n",
    "    'extra_category': '',\n",
    "    'treaty_filter': 'is_cultural',\n",
    "    'year_limit': (1945, 1972),\n",
    "    'parties': ('FRANCE', 'SWEDEN'),\n",
    "    'period_group_index': 3,\n",
    "    'party_name': 'party_name'\n",
    "}\n",
    "display_quantity_by_party(**args)"
   ]
  },
  {
   "cell_type": "code",
   "execution_count": 4,
   "metadata": {},
   "outputs": [
    {
     "ename": "NameError",
     "evalue": "name 'display_quantity_by_party' is not defined",
     "output_type": "error",
     "traceback": [
      "\u001b[0;31m---------------------------------------------------------------------------\u001b[0m",
      "\u001b[0;31mNameError\u001b[0m                                 Traceback (most recent call last)",
      "\u001b[0;32m<ipython-input-4-088ec2dcb138>\u001b[0m in \u001b[0;36m<module>\u001b[0;34m\u001b[0m\n\u001b[1;32m     12\u001b[0m     \u001b[0;34m'party_name'\u001b[0m\u001b[0;34m:\u001b[0m \u001b[0;34m'party_name'\u001b[0m\u001b[0;34m\u001b[0m\u001b[0m\n\u001b[1;32m     13\u001b[0m }\n\u001b[0;32m---> 14\u001b[0;31m \u001b[0mdisplay_quantity_by_party\u001b[0m\u001b[0;34m(\u001b[0m\u001b[0;34m**\u001b[0m\u001b[0margs\u001b[0m\u001b[0;34m)\u001b[0m\u001b[0;34m\u001b[0m\u001b[0m\n\u001b[0m",
      "\u001b[0;31mNameError\u001b[0m: name 'display_quantity_by_party' is not defined"
     ]
    }
   ],
   "source": [
    "args = {\n",
    "    'overlay': True,\n",
    "    'top_n_parties': 0,\n",
    "    'plot_style': 'seaborn-pastel',\n",
    "    'chart_type_name': 'plot_stacked_bar',\n",
    "    'normalize_values': False,\n",
    "    'extra_category': '',\n",
    "    'treaty_filter': 'is_cultural',\n",
    "    'year_limit': (1945, 1972),\n",
    "    'parties': ('FRANCE', 'USSR'),\n",
    "    'period_group_index': 3,\n",
    "    'party_name': 'party_name'\n",
    "}\n",
    "display_quantity_by_party(**args)"
   ]
  },
  {
   "cell_type": "markdown",
   "metadata": {},
   "source": [
    "###  Chart: Treaty Quantities by Selected Topics\n",
    "This chart displays the number of treaties per selected category and time period. The category can be wither topic or party. Only treaties signed by one of the selected parties are included in the count (unless either of ALL OTHER or ALL is selected, see below).\n",
    "\n",
    "See previous chart for a description of \"period\" and \"parties\" options (the same rules apply in this chart).\n",
    "\n",
    "Topics **not** specified in the selected \"Category\" are as default **excluded** from the counts. If the \"Add OTHER topics\" toggle is set then a new \"OTHER\" category is added as a summed up count for topics outside the selected topic category. \n",
    "\n",
    "Note that, as default when the \"Recode 7CORR\" is set, all treaties marked as \"is_cultural\" = \"Yes\" in the WTI index are assigned a new topic code \"7CORR\". The remaining treaties ´having topic 7CULT are not recoded (will keep this code).\n",
    "\n",
    "When the \"Chart per Qty\" toggle is set, then a seperate chart is created for each category (of selected Quantity). Please not that this might take some time if, if the category selection contains many items. Extra charts will also be created for **excluded** category items (i.e. parties not selected or topics not included in topic category) if either of the \"ALL OTHER\" or \"ALL\" party items are selected. In both cases the category filter is applies as for any other chart.\n",
    "\n",
    "The topic categories are defined in file **.\\common\\config.py** in the \"category_group_settings\" and is common to all notebooks. A topic category has the following the structure\n",
    "```python\n",
    "category_group_settings = {\n",
    "    'category-group-name': {\n",
    "        'category-item-1': [list-of-topic-codes-in-category-1],\n",
    "        'category-item-2': [list-of-topic-codes-in-category-2],\n",
    "        ...\n",
    "        'category-item-n': [list-of-topic-codes-in-category-n]\n",
    "    },\n",
    "```\n",
    "The **category-group-name**s will be visible in the \"Category\" dropdown list, and it is hence important for these names to be unique. It can be an arbitrary name. The **category-item**s is the name that will be visible on the chart legend as label for associated list of topic-codes. The **list-of-topic-codes**, finally, must be a list of valid topic codes in the WTI-index (+ 7CORR). Note that these lists within the same category-group should be mutually exclusive i.e. the same code should not be added to more than one group (will give an unpredicted result). Also note that correct braces **must** be used, and strings **must** be surrounded by \"'\", and all topic codes must also be in uppercase. Follow the same syntax as in the existing specifications. "
   ]
  },
  {
   "cell_type": "code",
   "execution_count": null,
   "metadata": {},
   "outputs": [],
   "source": []
  }
 ],
 "metadata": {
  "kernelspec": {
   "display_name": "Python 3",
   "language": "python",
   "name": "python3"
  },
  "language_info": {
   "codemirror_mode": {
    "name": "ipython",
    "version": 3
   },
   "file_extension": ".py",
   "mimetype": "text/x-python",
   "name": "python",
   "nbconvert_exporter": "python",
   "pygments_lexer": "ipython3",
   "version": "3.5.3"
  },
  "toc": {
   "base_numbering": 1,
   "nav_menu": {},
   "number_sections": false,
   "sideBar": false,
   "skip_h1_title": false,
   "title_cell": "Table of Contents",
   "title_sidebar": "Contents",
   "toc_cell": false,
   "toc_position": {},
   "toc_section_display": false,
   "toc_window_display": false
  },
  "varInspector": {
   "cols": {
    "lenName": 16,
    "lenType": 16,
    "lenVar": 40
   },
   "kernels_config": {
    "python": {
     "delete_cmd_postfix": "",
     "delete_cmd_prefix": "del ",
     "library": "var_list.py",
     "varRefreshCmd": "print(var_dic_list())"
    },
    "r": {
     "delete_cmd_postfix": ") ",
     "delete_cmd_prefix": "rm(",
     "library": "var_list.r",
     "varRefreshCmd": "cat(var_dic_list()) "
    }
   },
   "oldHeight": 655.4,
   "position": {
    "height": "886px",
    "left": "1049px",
    "right": "20px",
    "top": "110px",
    "width": "654px"
   },
   "types_to_exclude": [
    "module",
    "function",
    "builtin_function_or_method",
    "instance",
    "_Feature"
   ],
   "varInspector_section_display": "block",
   "window_display": false
  }
 },
 "nbformat": 4,
 "nbformat_minor": 2
}
