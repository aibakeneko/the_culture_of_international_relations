{
 "cells": [
  {
   "cell_type": "markdown",
   "metadata": {},
   "source": [
    "### <span style='color:green'>**Optional Prepare Step**</span>: Update WTI data from Google Drive\n",
    "The statistics computed on this page is dependent on a recent verison of the WTI treaties master list. This file is stored on Google Drive, and the script \"./google_drive.py\" can be used to download and update the data. Please note that the load script below reads CSV-files, with specific names, so a manual download of the master list must be followed by saving each sheet as an CSV. The script ./google_drive.py does this automatically.\n",
    "\n",
    "**TODO** Download works but progress print is missing.\n"
   ]
  },
  {
   "cell_type": "code",
   "execution_count": 3,
   "metadata": {
    "code_folding": []
   },
   "outputs": [
    {
     "data": {
      "application/vnd.jupyter.widget-view+json": {
       "model_id": "3d3cb87638084fc194bdc1144ae004bd",
       "version_major": 2,
       "version_minor": 0
      },
      "text/plain": [
       "VBox(children=(HBox(children=(Dropdown(description='File:', options={'WTI Master Index': {'file_id': '1nJ0nvYF…"
      ]
     },
     "metadata": {},
     "output_type": "display_data"
    }
   ],
   "source": [
    "# Code: Update WTI master data from Google Drive\n",
    "import os\n",
    "os.sys.path = os.sys.path if '..' in os.sys.path else os.sys.path + ['..']\n",
    "\n",
    "import ipywidgets as widgets\n",
    "\n",
    "from common.google_drive import process_file\n",
    "from common.widgets_utility import BaseWidgetUtility\n",
    "\n",
    "import logging\n",
    "\n",
    "logger = logging.getLogger()\n",
    "logger.setLevel(logging.INFO)\n",
    "\n",
    "files_to_download = {\n",
    "    'WTI Master Index': {\n",
    "        'file_id': '1nJ0nvYF6_hPHKjhLxLh1WVCJapKQOpAi',\n",
    "        'destination': '../data/Treaties_Master_List.xlsx',\n",
    "        'sheets': [ 'Treaties' ]\n",
    "    },\n",
    "    'Curated Parties': {\n",
    "        'file_id': '1k4dOPuqR7oi4K8SazoGN6R40jOBWOdWp',\n",
    "        'destination': '../data/parties_curated.xlsx',\n",
    "        'sheets': ['parties', 'group', 'continent']\n",
    "    },\n",
    "    'Country & Continent': {\n",
    "        'file_id': '19lEmVPu7hNmr1MaMpU0VvKL7muu-OKg9',\n",
    "        'destination': '../data/country_continent.csv',\n",
    "        'sheets': [ ]\n",
    "    }\n",
    "}\n",
    "\n",
    "def main_update_file():\n",
    "    \n",
    "    file_widget=widgets.Dropdown(\n",
    "        options=files_to_download,\n",
    "        value=None,\n",
    "        description='File:',\n",
    "    )\n",
    "    confirm_widget=widgets.ToggleButton(\n",
    "        description='Confirm',\n",
    "        button_style='',\n",
    "        icon='check',\n",
    "        value=False\n",
    "    )\n",
    "    \n",
    "    def update_file(file, confirm):\n",
    "        if file is None:\n",
    "            return\n",
    "        if confirm is False:\n",
    "            print('Please confirm update by checking the CONFIRM button!')\n",
    "            return\n",
    "        confirm_widget.value = False\n",
    "        print('Updating Google file with ID: {}'.format(file['file_id']))\n",
    "        process_file(file, overwrite=confirm)\n",
    "\n",
    "    iw = widgets.interactive(update_file, file=file_widget, confirm=confirm_widget)\n",
    "    display(widgets.VBox([widgets.HBox([file_widget, confirm_widget]), iw.children[-1]]))\n",
    "    \n",
    "main_update_file()\n"
   ]
  }
 ],
 "metadata": {
  "kernelspec": {
   "display_name": "Python 3",
   "language": "python",
   "name": "python3"
  },
  "language_info": {
   "codemirror_mode": {
    "name": "ipython",
    "version": 3
   },
   "file_extension": ".py",
   "mimetype": "text/x-python",
   "name": "python",
   "nbconvert_exporter": "python",
   "pygments_lexer": "ipython3",
   "version": "3.5.3"
  },
  "varInspector": {
   "cols": {
    "lenName": 16,
    "lenType": 16,
    "lenVar": 40
   },
   "kernels_config": {
    "python": {
     "delete_cmd_postfix": "",
     "delete_cmd_prefix": "del ",
     "library": "var_list.py",
     "varRefreshCmd": "print(var_dic_list())"
    },
    "r": {
     "delete_cmd_postfix": ") ",
     "delete_cmd_prefix": "rm(",
     "library": "var_list.r",
     "varRefreshCmd": "cat(var_dic_list()) "
    }
   },
   "oldHeight": 655.4,
   "position": {
    "height": "886px",
    "left": "1049px",
    "right": "20px",
    "top": "110px",
    "width": "654px"
   },
   "types_to_exclude": [
    "module",
    "function",
    "builtin_function_or_method",
    "instance",
    "_Feature"
   ],
   "varInspector_section_display": "block",
   "window_display": false
  }
 },
 "nbformat": 4,
 "nbformat_minor": 2
}
