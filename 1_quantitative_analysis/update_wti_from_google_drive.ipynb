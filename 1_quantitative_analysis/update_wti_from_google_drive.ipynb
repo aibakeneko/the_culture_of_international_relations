{
 "cells": [
  {
   "cell_type": "markdown",
   "metadata": {},
   "source": [
    "### <span style='color:green'>**Optional Prepare Step**</span>: Update WTI data from Google Drive\n",
    "The statistics computed on this page is dependent on a recent verison of the WTI treaties master list. This file is stored on Google Drive, and the script \"./google_drive.py\" can be used to download and update the data. Please note that the load script below reads CSV-files, with specific names, so a manual download of the master list must be followed by saving each sheet as an CSV. The script ./google_drive.py does this automatically.\n",
    "\n",
    "**TODO** Download works but progress print is missing.\n"
   ]
  },
  {
   "cell_type": "code",
   "execution_count": 1,
   "metadata": {
    "code_folding": []
   },
   "outputs": [
    {
     "data": {
      "application/vnd.jupyter.widget-view+json": {
       "model_id": "f1f7054c2e7745bdbdaf7391b29b0c9b",
       "version_major": 2,
       "version_minor": 0
      },
      "text/plain": [
       "HBox(children=(Dropdown(description='File:', options={'Curated Parties': {'file_id': '1k4dOPuqR7oi4K8SazoGN6R4…"
      ]
     },
     "metadata": {},
     "output_type": "display_data"
    }
   ],
   "source": [
    "# Code: Update WTI master data from Google Drive\n",
    "import os\n",
    "os.sys.path = os.sys.path if '..' in os.sys.path else os.sys.path + ['..']\n",
    "\n",
    "import ipywidgets as widgets\n",
    "\n",
    "from common.google_drive import process_file\n",
    "from common.widgets_utility import WidgetUtility\n",
    "\n",
    "import logging\n",
    "\n",
    "logger = logging.getLogger()\n",
    "logger.setLevel(logging.INFO)\n",
    "\n",
    "files_to_download = {\n",
    "    'WTI Master Index': {\n",
    "        'file_id': '1nJ0nvYF6_hPHKjhLxLh1WVCJapKQOpAi',\n",
    "        'destination': '../data/Treaties_Master_List.xlsx',\n",
    "        'sheets': [ 'Treaties' ]\n",
    "    },\n",
    "    'Curated Parties': {\n",
    "        'file_id': '1k4dOPuqR7oi4K8SazoGN6R40jOBWOdWp',\n",
    "        'destination': '../data/parties_curated.xlsx',\n",
    "        'sheets': ['parties', 'group', 'continent']\n",
    "    },\n",
    "    'Country & Continent': {\n",
    "        'file_id': '19lEmVPu7hNmr1MaMpU0VvKL7muu-OKg9',\n",
    "        'destination': '../data/country_continent.csv',\n",
    "        'sheets': [ ]\n",
    "    }\n",
    "}\n",
    "\n",
    "file_widget = widgets.Dropdown(options=files_to_download, value=None, description='File:')\n",
    "update_widget = widgets.Button(description='Update')\n",
    "\n",
    "def update_file(file):\n",
    "\n",
    "    if file is None:\n",
    "        print(\"Please select file to update.\")\n",
    "        return\n",
    "\n",
    "    print('Updating Google file with ID: {}'.format(file['file_id']))\n",
    "    update_widget.disabled = True\n",
    "    process_file(file, overwrite=True)\n",
    "    update_widget.disabled = False\n",
    "\n",
    "def on_button_clicked(b):\n",
    "    update_file(file_widget.value)\n",
    "\n",
    "update_widget.on_click(on_button_clicked)\n",
    "\n",
    "display(widgets.HBox([file_widget, update_widget]))\n"
   ]
  },
  {
   "cell_type": "code",
   "execution_count": null,
   "metadata": {},
   "outputs": [],
   "source": []
  }
 ],
 "metadata": {
  "kernelspec": {
   "display_name": "Python 3",
   "language": "python",
   "name": "python3"
  },
  "language_info": {
   "codemirror_mode": {
    "name": "ipython",
    "version": 3
   },
   "file_extension": ".py",
   "mimetype": "text/x-python",
   "name": "python",
   "nbconvert_exporter": "python",
   "pygments_lexer": "ipython3",
   "version": "3.5.3"
  },
  "toc": {
   "base_numbering": 1,
   "nav_menu": {},
   "number_sections": false,
   "sideBar": false,
   "skip_h1_title": false,
   "title_cell": "Table of Contents",
   "title_sidebar": "Contents",
   "toc_cell": false,
   "toc_position": {},
   "toc_section_display": false,
   "toc_window_display": false
  },
  "varInspector": {
   "cols": {
    "lenName": 16,
    "lenType": 16,
    "lenVar": 40
   },
   "kernels_config": {
    "python": {
     "delete_cmd_postfix": "",
     "delete_cmd_prefix": "del ",
     "library": "var_list.py",
     "varRefreshCmd": "print(var_dic_list())"
    },
    "r": {
     "delete_cmd_postfix": ") ",
     "delete_cmd_prefix": "rm(",
     "library": "var_list.r",
     "varRefreshCmd": "cat(var_dic_list()) "
    }
   },
   "oldHeight": 655.4,
   "position": {
    "height": "886px",
    "left": "1049px",
    "right": "20px",
    "top": "110px",
    "width": "654px"
   },
   "types_to_exclude": [
    "module",
    "function",
    "builtin_function_or_method",
    "instance",
    "_Feature"
   ],
   "varInspector_section_display": "block",
   "window_display": false
  }
 },
 "nbformat": 4,
 "nbformat_minor": 2
}
