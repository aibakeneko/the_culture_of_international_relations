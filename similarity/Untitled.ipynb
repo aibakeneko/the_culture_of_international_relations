{
 "cells": [
  {
   "cell_type": "markdown",
   "metadata": {},
   "source": [
    "# SIMD Smith-Waterman\n",
    "\n",
    "See https://github.com/mengyao/Complete-Striped-Smith-Waterman-Library.\n",
    "\n",
    "```bash\n",
    " % cd ~/source\n",
    " % git clone https://github.com/mengyao/Complete-Striped-Smith-Waterman-Library.git\n",
    " % cd Complete-Striped-Smith-Waterman-Library/\n",
    " % cd src/\n",
    " % make\n",
    " % gcc -Wall -O3 -pipe -fPIC -shared -rdynamic -o libssw.so ssw.c ssw.h\n",
    " % cp libssw.so ~/notebooks/the_culture_of_international_relations/3_text_analysis/\n",
    " % cp ssw_lib.py ~/notebooks/the_culture_of_international_relations/3_text_analysis/\n",
    "\n",
    "3. The `LD_LIBRARY_PATH` environment variable may need to be modified to include the directory of the dynamic library `libssw.so` by one of the two following mathods:\n",
    "\n",
    "    * ```export LD_LIBRARY_PATH=$LD_LIBRARY_PATH:path_of_libssw.so```\n",
    "    * For a definitive inclusion edit `/etc/ld.so.conf` and add the path of the `libssw.so`. Then, update the cache by `/sbin/ldconfig`.\n",
    "\n",
    "5. Call APIs with input parameters and parse the results (Please see `pyssw.py` as an example).\n",
    "\n",
    "\n",
    "### Command Line Arguments\n",
    "\n",
    "```\n",
    "Usage: ssw_test [options] ... <target.fasta> <query.fasta>(or <query.fastq>)\n",
    "Options:\n",
    "\t-m N\tN is a positive integer for weight match in genome sequence alignment. [default: 2]\n",
    "\t-x N\tN is a positive integer. -N will be used as weight mismatch in genome sequence alignment. [default: 2]\n",
    "\t-o N\tN is a positive integer. -N will be used as the weight for the gap opening. [default: 3]\n",
    "\t-e N\tN is a positive integer. -N will be used as the weight for the gap extension. [default: 1]\n",
    "\t-p\tDo protein sequence alignment. Without this option, the ssw_test will do genome sequence alignment.\n",
    "\t-a FILE\tFILE is either the Blosum or Pam weight matrix. [default: Blosum50]\n",
    "\t-c\tReturn the alignment path.\n",
    "\t-f N\tN is a positive integer. Only output the alignments with the Smith-Waterman score >= N.\n",
    "\t-r\tThe best alignment will be picked between the original read alignment and the reverse complement read alignment.\n",
    "\t-s\tOutput in SAM format. [default: no header]\n",
    "\t-h\tIf -s is used, include header in SAM output.\n",
    "```\n",
    "\n",
    "### Run pyssw standalone\n",
    "\n",
    "```\n",
    "usage: pyssw.py [-h] [-l SLIBPATH] [-m NMATCH] [-x NMISMATCH] [-o NOPEN]\n",
    "                [-e NEXT] [-p] [-a SMATRIX] [-c] [-f NTHR] [-r] [-s] [-header]\n",
    "                [target file] [query file]\n",
    "\n",
    "optional arguments:\n",
    "  -h, --help            show this help message and exit\n",
    "  -l SLIBPATH, --sLibPath SLIBPATH\n",
    "                        path of libssw.so\n",
    "  -m NMATCH, --nMatch NMATCH\n",
    "                        a positive integer as the score for a match in genome sequence alignment. [default: 2]\n",
    "  -x NMISMATCH, --nMismatch NMISMATCH\n",
    "                        a positive integer as the score for a mismatch in genome sequence alignment. [default: 2]\n",
    "  -o NOPEN, --nOpen NOPEN\n",
    "                        a positive integer as the penalty for the gap opening in genome sequence alignment. [default: 3]\n",
    "  -e NEXT, --nExt NEXT  a positive integer as the penalty for the gap extension in genome sequence alignment. [default: 1]\n",
    "  -p, --bProtien        Do protein sequence alignment. Without this option, the ssw_test will do genome sequence alignment. [default: False]\n",
    "  -a SMATRIX, --sMatrix SMATRIX\n",
    "                        a file for either Blosum or Pam weight matrix. [default: Blosum50]\n",
    "  -c, --bPath           Return the alignment path. [default: False]\n",
    "  -f NTHR, --nThr NTHR  a positive integer. Only output the alignments with the Smith-Waterman score >= N.\n",
    "  -r, --bBest           The best alignment will be picked between the original read alignment and the reverse complement read alignment. [default: False]\n",
    "  -s, --bSam            Output in SAM format. [default: no header]\n",
    "  -header, --bHeader    If -s is used, include header in SAM output.\n",
    "```\n",
    "\n",
    "### pyssw output\n",
    "\n",
    "The software can output SAM format or BLAST like format results.\n"
   ]
  },
  {
   "cell_type": "code",
   "execution_count": 2,
   "metadata": {},
   "outputs": [
    {
     "data": {
      "text/plain": [
       "\u001b[0;31mInit signature:\u001b[0m \u001b[0mssw_lib\u001b[0m\u001b[0;34m.\u001b[0m\u001b[0mCSsw\u001b[0m\u001b[0;34m(\u001b[0m\u001b[0msLibPath\u001b[0m\u001b[0;34m)\u001b[0m\u001b[0;34m\u001b[0m\u001b[0m\n",
       "\u001b[0;31mDocstring:\u001b[0m      A class for libssw\n",
       "\u001b[0;31mInit docstring:\u001b[0m\n",
       "init all para\n",
       "@para   sLibpath    argparse object\n",
       "\u001b[0;31mFile:\u001b[0m           ~/notebooks/the_culture_of_international_relations/3_text_analysis/ssw_lib.py\n",
       "\u001b[0;31mType:\u001b[0m           type\n",
       "\u001b[0;31mSubclasses:\u001b[0m     \n"
      ]
     },
     "metadata": {},
     "output_type": "display_data"
    }
   ],
   "source": [
    "import ssw_lib\n",
    "ssw_lib.CSsw?"
   ]
  },
  {
   "cell_type": "code",
   "execution_count": null,
   "metadata": {},
   "outputs": [],
   "source": []
  }
 ],
 "metadata": {
  "kernelspec": {
   "display_name": "Python 3",
   "language": "python",
   "name": "python3"
  },
  "language_info": {
   "codemirror_mode": {
    "name": "ipython",
    "version": 3
   },
   "file_extension": ".py",
   "mimetype": "text/x-python",
   "name": "python",
   "nbconvert_exporter": "python",
   "pygments_lexer": "ipython3",
   "version": "3.5.3"
  }
 },
 "nbformat": 4,
 "nbformat_minor": 2
}
