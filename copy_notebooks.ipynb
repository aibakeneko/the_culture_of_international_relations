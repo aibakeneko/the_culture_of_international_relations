{
 "cells": [
  {
   "cell_type": "markdown",
   "metadata": {},
   "source": [
    "### <span style='color:green'>**Optional Prepare Step**</span>: Update Notebook to Latest Version\n",
    "Use this notebook if you want to update any other notebook to the latest version.\n",
    "Please note that the files a copied from the curent development source directory which can be work in progress.\n",
    "Future versions of this script will update scripts from the latest version in GitHub.\n",
    "<br>\n",
    "Please stop and close any open notebooks that you want to update. You can shutdown running notebooks in the Jupyter dashboard \"Running\" tab.\n",
    "\n",
    "** TODO: Print timestamp or warning that notebook is outdated **"
   ]
  },
  {
   "cell_type": "code",
   "execution_count": 1,
   "metadata": {
    "code_folding": []
   },
   "outputs": [
    {
     "data": {
      "application/vnd.jupyter.widget-view+json": {
       "model_id": "e268d333e1d04e899d2bf2b76c6db119",
       "version_major": 2,
       "version_minor": 0
      },
      "text/plain": [
       "VBox(children=(HBox(children=(Dropdown(description='File:', layout=Layout(width='400px'), options=('culture_of…"
      ]
     },
     "metadata": {},
     "output_type": "display_data"
    }
   ],
   "source": [
    "# Code: Update WTI master data from Google Drive\n",
    "%run ./widgets_utility\n",
    "\n",
    "import os\n",
    "import shutil\n",
    "import glob\n",
    "import logging\n",
    "import zipfile\n",
    "import time\n",
    "\n",
    "source_folder='/home/roger/notebooks/the_culture_of_international_relations'\n",
    "\n",
    "logging.getLogger().setLevel(logging.INFO)\n",
    "logger.setLevel(logging.INFO)\n",
    "\n",
    "def ts_data_path(self, filename):\n",
    "    return os.path.join(self.directory, '{}_{}'.format(time.strftime(\"%Y%m%d%H%M\"), filename))\n",
    "\n",
    "def data_path_ts(self, path):\n",
    "    basename, extension = os.path.splitext(path)\n",
    "    return os.path.join(self.directory, '{}_{}{}'.format(basename, time.strftime(\"%Y%m%d%H%M\"), extension))\n",
    "\n",
    "def get_notebook_filenames(folder, extension='ipynb'):\n",
    "    '''  Returns a list of files found in given folder '''\n",
    "    return [ os.path.split(x)[1] for x in glob.glob(os.path.join(folder, '*.{}'.format(extension))) ]\n",
    "\n",
    "def get_sourcefiles_to_archive(folder='./', extensions='ipynb;py'):\n",
    "    '''  Returns a list of files found in given folder '''\n",
    "    filenames = []\n",
    "    for extension in extensions.split(';'):\n",
    "        filenames += glob.glob(os.path.join(folder, '*.' + extension))\n",
    "    return filenames\n",
    "\n",
    "def archive_sourcefiles():\n",
    "    target_file = './backup/{}_source_code.zip'.format(time.strftime(\"%Y%m%d%H%M\"))\n",
    "    with zipfile.ZipFile(target_file, \"w\", zipfile.ZIP_DEFLATED) as zip:\n",
    "        for source_file in get_sourcefiles_to_archive():\n",
    "            zip.write(source_file, os.path.basename(source_file))\n",
    "    return target_file\n",
    "\n",
    "def copy_files(source, destination_folder):\n",
    "    for filename in glob.glob(source):\n",
    "        shutil.copy(filename, destination_folder)\n",
    "\n",
    "def update_notebook(filename, confirm, source_folder, copy_python_files=True):\n",
    "    global upw\n",
    "    if filename is None:\n",
    "        return\n",
    "    if confirm is False:\n",
    "        print('Please confirm update by checking the CONFIRM button!')\n",
    "        return\n",
    "    upw.confirm.value = False\n",
    "    print('Updatating file {}'.format(filename))\n",
    "    target_archive = archive_sourcefiles()\n",
    "    print('  Current version stored in {}.'.format(target_archive))\n",
    "    copy_files(os.path.join(source_folder, filename), './')\n",
    "    print('  Notebook {} updated.'.format(filename))\n",
    "    if copy_python_files:\n",
    "        copy_files(os.path.join(source_folder, \"*.py\"), './')\n",
    "        print('  Python source files updated.')\n",
    "    print('Done!')\n",
    "\n",
    "upw = BaseWidgetUtility(\n",
    "    filename=widgets.Dropdown(\n",
    "        options=get_notebook_filenames(source_folder),\n",
    "        value=None,\n",
    "        description='File:',\n",
    "        layout=widgets.Layout(width='400px')\n",
    "    ),\n",
    "    confirm=widgets.ToggleButton(\n",
    "        description='Confirm',\n",
    "        button_style='',\n",
    "        icon='check',\n",
    "        value=False\n",
    "    ),)\n",
    "iupw = widgets.interactive(update_notebook, filename=upw.filename, confirm=upw.confirm, source_folder=source_folder)\n",
    "display(widgets.VBox([widgets.HBox([upw.filename, upw.confirm]), iupw.children[-1]]))\n",
    "# iupw.update()"
   ]
  }
 ],
 "metadata": {
  "kernelspec": {
   "display_name": "Python 3",
   "language": "python",
   "name": "python3"
  },
  "language_info": {
   "codemirror_mode": {
    "name": "ipython",
    "version": 3
   },
   "file_extension": ".py",
   "mimetype": "text/x-python",
   "name": "python",
   "nbconvert_exporter": "python",
   "pygments_lexer": "ipython3",
   "version": "3.5.3"
  },
  "varInspector": {
   "cols": {
    "lenName": 16,
    "lenType": 16,
    "lenVar": 40
   },
   "kernels_config": {
    "python": {
     "delete_cmd_postfix": "",
     "delete_cmd_prefix": "del ",
     "library": "var_list.py",
     "varRefreshCmd": "print(var_dic_list())"
    },
    "r": {
     "delete_cmd_postfix": ") ",
     "delete_cmd_prefix": "rm(",
     "library": "var_list.r",
     "varRefreshCmd": "cat(var_dic_list()) "
    }
   },
   "oldHeight": 655.4,
   "position": {
    "height": "886px",
    "left": "1049px",
    "right": "20px",
    "top": "110px",
    "width": "654px"
   },
   "types_to_exclude": [
    "module",
    "function",
    "builtin_function_or_method",
    "instance",
    "_Feature"
   ],
   "varInspector_section_display": "block",
   "window_display": false
  }
 },
 "nbformat": 4,
 "nbformat_minor": 2
}
