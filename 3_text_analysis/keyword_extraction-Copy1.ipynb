{
 "cells": [
  {
   "cell_type": "code",
   "execution_count": 5,
   "metadata": {},
   "outputs": [],
   "source": [
    "import sys\n",
    "import os\n",
    "\n",
    "if '..' not in sys.path: sys.path.append('..')\n",
    "\n",
    "#from common.treaty_state import load_wti_index\n",
    "#wti_index = load_wti_index('../data/')\n",
    "\n",
    "import treaty_corpus\n",
    "\n",
    "source_folder = '../data'\n",
    "source_file = 'treaty_text_corpora_20181018.zip'\n",
    "source_path = os.path.join(source_folder, source_file)\n",
    "corpus_stream = treaty_corpus.CompressedFileReader(source_path, pattern='*_en*.txt')\n",
    "corpus = treaty_corpus.TreatyCorpus(corpus_stream)\n"
   ]
  },
  {
   "cell_type": "markdown",
   "metadata": {},
   "source": [
    "https://github.com/search?l=Python&q=keyword+extraction&type=Repositories\n",
    "\n",
    "# TextRank\n",
    "\n",
    "https://github.com/fnl/asdm-tm-class/blob/master/13_Keyword_extraction.ipynb\n",
    "https://github.com/JRC1995/TextRank-Keyword-Extraction\n",
    "\n",
    "# RAKE\n",
    "https://github.com/csurfer/rake-nltk\n",
    "https://github.com/aneesha/RAKE\n",
    "https://github.com/vgrabovets/multi_rake\n",
    "\n",
    "Rose, S., Engel, D., Cramer, N., & Cowley, W. (2010). Automatic Keyword Extraction from Individual Documents. In M. W. Berry & J. Kogan (Eds.), Text Mining: Theory and Applications: John Wiley & Sons.\n"
   ]
  },
  {
   "cell_type": "code",
   "execution_count": 1,
   "metadata": {},
   "outputs": [
    {
     "data": {
      "text/plain": [
       "[(1.0, 'sentences'), (1.0, 'list')]"
      ]
     },
     "execution_count": 1,
     "metadata": {},
     "output_type": "execute_result"
    }
   ],
   "source": [
    "from rake_nltk import Rake\n",
    "\n",
    "# Uses stopwords for english from NLTK, and all puntuation characters by\n",
    "# default\n",
    "\n",
    "r = Rake()\n",
    "\n",
    "# Extraction given the text.\n",
    "r.extract_keywords_from_text(\"<text to process>\")\n",
    "\n",
    "# Extraction given the list of strings where each string is a sentence.\n",
    "r.extract_keywords_from_sentences([\"<list of sentences>\"])\n",
    "\n",
    "# To get keyword phrases ranked highest to lowest.\n",
    "r.get_ranked_phrases()\n",
    "\n",
    "# To get keyword phrases ranked highest to lowest with scores.\n",
    "r.get_ranked_phrases_with_scores()\n"
   ]
  },
  {
   "cell_type": "markdown",
   "metadata": {},
   "source": [
    "http://www.ijeast.com/papers/215-220,Tesma204,IJEAST.pdf\n",
    "https://github.com/bulentozel/omterms\n",
    "https://github.com/fnl/asdm-tm-class\n"
   ]
  }
 ],
 "metadata": {
  "kernelspec": {
   "display_name": "Python 3",
   "language": "python",
   "name": "python3"
  },
  "language_info": {
   "codemirror_mode": {
    "name": "ipython",
    "version": 3
   },
   "file_extension": ".py",
   "mimetype": "text/x-python",
   "name": "python",
   "nbconvert_exporter": "python",
   "pygments_lexer": "ipython3",
   "version": "3.5.3"
  }
 },
 "nbformat": 4,
 "nbformat_minor": 2
}
