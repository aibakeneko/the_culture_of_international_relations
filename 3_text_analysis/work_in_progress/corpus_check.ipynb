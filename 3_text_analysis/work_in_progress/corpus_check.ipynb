{
 "cells": [
  {
   "cell_type": "code",
   "execution_count": 1,
   "metadata": {},
   "outputs": [
    {
     "name": "stderr",
     "output_type": "stream",
     "text": [
      "2018-12-05 16:26:11,294 : INFO : 'pattern' package not found; tag filters are not available for English\n",
      "2018-12-05 16:26:11,888 : INFO : Data loaded!\n"
     ]
    }
   ],
   "source": [
    "# Setup\n",
    "%load_ext autoreload\n",
    "%autoreload 2\n",
    "\n",
    "import sys\n",
    "import os\n",
    "\n",
    "if '..' not in sys.path: sys.path.insert(1, '..')\n",
    "\n",
    "from common.treaty_state import load_wti_index\n",
    "\n",
    "import ipywidgets as widgets\n",
    "import common.widgets_config as widgets_config\n",
    "#import common.config as config\n",
    "import common.utility as utility\n",
    "#import common.treaty_utility as treaty_utility\n",
    "import treaty_corpus\n",
    "#import nltk\n",
    "\n",
    "logger = utility.getLogger('corpus_text_analysis')\n",
    "\n",
    "data_folder = '../data'\n",
    "wti_index = load_wti_index(data_folder=data_folder)\n"
   ]
  },
  {
   "cell_type": "code",
   "execution_count": 2,
   "metadata": {},
   "outputs": [
    {
     "data": {
      "application/vnd.jupyter.widget-view+json": {
       "model_id": "2d4410895bb04fe9bd68d9a5dd8152ef",
       "version_major": 2,
       "version_minor": 0
      },
      "text/plain": [
       "HBox(children=(Dropdown(description='Corpus:', options=('../data/treaty_text_corpora_20180821.zip', '../data/t…"
      ]
     },
     "metadata": {},
     "output_type": "display_data"
    }
   ],
   "source": [
    "\n",
    "def check_text_corpus_completeness(data_folder, wti_index, corpus_filename):\n",
    "    display('HEJ')\n",
    "    corpus_path = os.path.join(data_folder, corpus_filename)\n",
    "\n",
    "    #treaties = wti_index\n",
    "    #corpus_stream = treaty_corpus.CompressedFileReader(source_path, pattern='*.txt')\n",
    "\n",
    "corpus_file_pattern = os.path.join(data_folder, '*.zip')\n",
    "current_archives = (utility.ls_sorted(corpus_file_pattern) or [])\n",
    "\n",
    "corpus_widget = widgets.Dropdown(options=current_archives, value=None, description='Corpus:')\n",
    "check_widget = widgets.Button(description='Check')\n",
    "    \n",
    "def on_button_clicked(b):\n",
    "    display('HEJ')\n",
    "    check_text_corpus_completeness(data_folder, wti_index, corpus_filename_widget.value)\n",
    "\n",
    "check_widget.on_click(on_button_clicked)\n",
    "\n",
    "display(\n",
    "    widgets.HBox([corpus_widget, check_widget])\n",
    ")\n"
   ]
  },
  {
   "cell_type": "code",
   "execution_count": 18,
   "metadata": {},
   "outputs": [
    {
     "name": "stderr",
     "output_type": "stream",
     "text": [
      "usage: ipykernel_launcher.py [--auth_host_name AUTH_HOST_NAME]\n",
      "                             [--noauth_local_webserver]\n",
      "                             [--auth_host_port [AUTH_HOST_PORT [AUTH_HOST_PORT ...]]]\n",
      "                             [--logging_level {DEBUG,INFO,WARNING,ERROR,CRITICAL}]\n",
      "ipykernel_launcher.py: error: unrecognized arguments: -f /home/roger/.local/share/jupyter/runtime/kernel-f7cf9e3b-976e-4f3d-9872-f4e22b294fc3.json\n"
     ]
    },
    {
     "ename": "SystemExit",
     "evalue": "2",
     "output_type": "error",
     "traceback": [
      "An exception has occurred, use %tb to see the full traceback.\n",
      "\u001b[0;31mSystemExit\u001b[0m\u001b[0;31m:\u001b[0m 2\n"
     ]
    }
   ],
   "source": [
    "from __future__ import print_function\n",
    "from googleapiclient.discovery import build\n",
    "from httplib2 import Http\n",
    "from oauth2client import file, client, tools\n",
    "\n",
    "# If modifying these scopes, delete the file token.json.\n",
    "SCOPES = 'https://www.googleapis.com/auth/drive.readonly'\n",
    "\n",
    "def get_drive_service():\n",
    "    store = file.Storage('token.json')\n",
    "    creds = store.get()\n",
    "    if not creds or creds.invalid:\n",
    "        flow = client.flow_from_clientsecrets('credentials.json', SCOPES)\n",
    "        creds = tools.run_flow(flow, store)\n",
    "    service = build('drive', 'v3', http=creds.authorize(Http()))\n",
    "    return service\n",
    "\n",
    "def main():\n",
    "    \"\"\"Shows basic usage of the Drive v3 API.\n",
    "    Prints the names and ids of the first 10 files the user has access to.\n",
    "    \"\"\"\n",
    "    service = get_drive_service()\n",
    "\n",
    "    # Call the Drive v3 API\n",
    "    results = service.files().list(\n",
    "        pageSize=10, fields=\"nextPageToken, files(id, name)\").execute()\n",
    "    items = results.get('files', [])\n",
    "\n",
    "    if not items:\n",
    "        print('No files found.')\n",
    "    else:\n",
    "        print('Files:')\n",
    "        for item in items:\n",
    "            print(u'{0} ({1})'.format(item['name'], item['id']))\n",
    "\n",
    "\n",
    "main()"
   ]
  },
  {
   "cell_type": "code",
   "execution_count": 20,
   "metadata": {},
   "outputs": [
    {
     "name": "stderr",
     "output_type": "stream",
     "text": [
      "usage: ipykernel_launcher.py [--auth_host_name AUTH_HOST_NAME]\n",
      "                             [--noauth_local_webserver]\n",
      "                             [--auth_host_port [AUTH_HOST_PORT [AUTH_HOST_PORT ...]]]\n",
      "                             [--logging_level {DEBUG,INFO,WARNING,ERROR,CRITICAL}]\n",
      "ipykernel_launcher.py: error: unrecognized arguments: -f /home/roger/.local/share/jupyter/runtime/kernel-f7cf9e3b-976e-4f3d-9872-f4e22b294fc3.json\n"
     ]
    },
    {
     "ename": "SystemExit",
     "evalue": "2",
     "output_type": "error",
     "traceback": [
      "An exception has occurred, use %tb to see the full traceback.\n",
      "\u001b[0;31mSystemExit\u001b[0m\u001b[0;31m:\u001b[0m 2\n"
     ]
    }
   ],
   "source": [
    "drive_service = get_drive_service()\n",
    "file_id = '1ZdR3L3qP4Bkq8noWLJHSr_iBau0DNT4Kli4SxNc2YEo'\n",
    "request = drive_service.files().export_media(fileId=file_id,mimeType='application/pdf')\n",
    "fh = io.BytesIO()\n",
    "downloader = MediaIoBaseDownload(fh, request)\n",
    "done = False\n",
    "while done is False:\n",
    "    status, done = downloader.next_chunk()\n",
    "    print(\"Download %d%%.\" % int(status.progress() * 100))\n",
    "    "
   ]
  },
  {
   "cell_type": "code",
   "execution_count": null,
   "metadata": {},
   "outputs": [],
   "source": []
  }
 ],
 "metadata": {
  "kernelspec": {
   "display_name": "Python 3",
   "language": "python",
   "name": "python3"
  },
  "language_info": {
   "codemirror_mode": {
    "name": "ipython",
    "version": 3
   },
   "file_extension": ".py",
   "mimetype": "text/x-python",
   "name": "python",
   "nbconvert_exporter": "python",
   "pygments_lexer": "ipython3",
   "version": "3.5.3"
  }
 },
 "nbformat": 4,
 "nbformat_minor": 2
}
