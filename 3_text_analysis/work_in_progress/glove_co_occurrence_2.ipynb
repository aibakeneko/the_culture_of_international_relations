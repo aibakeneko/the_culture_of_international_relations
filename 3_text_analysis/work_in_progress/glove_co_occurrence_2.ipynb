{
 "cells": [
  {
   "cell_type": "code",
   "execution_count": 2,
   "metadata": {
    "collapsed": true
   },
   "outputs": [],
   "source": [
    "# source from https://github.com/snji-khjuria/GloveModel\n",
    "    \n",
    "#essential imports\n",
    "import tensorflow as tf\n",
    "import  os"
   ]
  },
  {
   "cell_type": "code",
   "execution_count": 3,
   "metadata": {
    "collapsed": true
   },
   "outputs": [],
   "source": [
    "#configuration variables\n",
    "fileLocation        = \"./corpus\"\n",
    "vocab_size          = 100000\n",
    "min_occurence       = 1\n",
    "scaling_factor      = 3/4.0\n",
    "cooccurence_cap     = 100\n",
    "batch_size          = 2\n",
    "learning_rate       = 0.05\n",
    "embedding_size      = 10\n",
    "left_context_size   = 2\n",
    "right_context_size  = 2\n",
    "words               = None\n",
    "word_to_id          = None\n",
    "#cooccurence_matrix[w1, w2] = float\n",
    "cooccurence_matrix  = None\n",
    "embeddings          = None\n",
    "epoch_loss_print    = 10\n",
    "epoch_tsne_print    = 10\n",
    "log_dir             = \"./logs\""
   ]
  },
  {
   "cell_type": "code",
   "execution_count": 16,
   "metadata": {
    "collapsed": false
   },
   "outputs": [],
   "source": [
    "#utility to read the corpus\n",
    "def readCorpus(filename):\n",
    "#    docs = [\n",
    "#        \"With Windows 10 Home - get the best combination of Windows features you know and new improvements you'll love\",\n",
    "#        \"NVIDIA Geforce for High Graphics Performance\",\n",
    "#        \"15.6 inch HD LED Backlit Anti-glare TN Display\"\n",
    "#    ]\n",
    "    docs = [\n",
    "        \"roger roger roger anna anna roger roger\",\n",
    "        \"roger roger roger anna anna roger roger\"\n",
    "    ]\n",
    "    for line in docs: # open(filename):\n",
    "        line = line.strip()\n",
    "        yield line.lower().split()\n",
    "\n",
    "#get the left context\n",
    "def get_left_context(region, i, left_size):\n",
    "    start_index = i-left_size\n",
    "    if start_index<0:\n",
    "        start_index=0\n",
    "    left_context = region[start_index:i]\n",
    "    left_more = ['null_word']*(left_size-len(left_context))\n",
    "    left_more.extend(left_context)\n",
    "    return left_more\n",
    "\n",
    "#get the right context window\n",
    "def get_right_context(region, i, right_size):\n",
    "    end_index = i+right_size+1\n",
    "    total_region = len(region)\n",
    "    if end_index>total_region:\n",
    "        end_index=total_region\n",
    "    right_context = region[i+1:end_index]\n",
    "    right_context.extend(['null_word']*(right_size-len(right_context)))\n",
    "    return right_context\n",
    "\n",
    "#get the window\n",
    "def window(region, left_size=3, right_size=3):\n",
    "    total_region = len(region)\n",
    "    for i, word in enumerate(region):\n",
    "        left_context = get_left_context(region, i, left_size)\n",
    "        right_context = get_right_context(region, i, right_size)\n",
    "        yield (left_context, word, right_context)"
   ]
  },
  {
   "cell_type": "code",
   "execution_count": 17,
   "metadata": {
    "collapsed": false
   },
   "outputs": [],
   "source": [
    "from collections import Counter, defaultdict\n",
    "def fit_to_corpus(corpus, vocab_size, min_occurences, left_size, right_size):\n",
    "    words_count = Counter()\n",
    "    #provides value for non-existent key\n",
    "    cooccurence_counts = defaultdict(float)\n",
    "    for region in corpus:\n",
    "        words_count.update(region)\n",
    "        #add 1/distance from the position of centralized context word\n",
    "        for l_context, word, r_context in window(region, left_size, right_size):\n",
    "            for i, context_word in enumerate(l_context[::-1]):\n",
    "                cooccurence_counts[(word, context_word)] += 1/(i+1)\n",
    "            for i, context_word in enumerate(r_context):\n",
    "                cooccurence_counts[(word, context_word)] += 1/(i+1)\n",
    "    words = [word for word, count in words_count.most_common(vocab_size) if count>=min_occurences]\n",
    "    word_to_id = {word:i for i, word in enumerate(words)}\n",
    "    cooccurence_matrix = {\n",
    "                        (word_to_id[words[0]], word_to_id[words[1]]):count\n",
    "                        for words, count in cooccurence_counts.items()\n",
    "                         if words[0] in word_to_id and words[1] in word_to_id\n",
    "                        }\n",
    "    return words, word_to_id, cooccurence_matrix"
   ]
  },
  {
   "cell_type": "code",
   "execution_count": 18,
   "metadata": {
    "collapsed": false
   },
   "outputs": [],
   "source": [
    "#get the corpus\n",
    "corpus                                = readCorpus(fileLocation)\n",
    "#get words, word_to_id and cooccurence matrix by fitting it to corpus\n",
    "#we have words, wordstoid and possible cooccurence matrix for the words\n",
    "words, word_to_id, cooccurence_matrix = fit_to_corpus(corpus, vocab_size, min_occurence, left_context_size, right_context_size)"
   ]
  },
  {
   "cell_type": "code",
   "execution_count": 19,
   "metadata": {
    "collapsed": false
   },
   "outputs": [
    {
     "name": "stdout",
     "output_type": "stream",
     "text": [
      "{(0, 1): 8.0, (1, 0): 8.0, (0, 0): 14.0, (1, 1): 4.0}\n"
     ]
    }
   ],
   "source": [
    "print(cooccurence_matrix)"
   ]
  },
  {
   "cell_type": "code",
   "execution_count": 20,
   "metadata": {
    "collapsed": false
   },
   "outputs": [],
   "source": [
    "focal_input         = tf.placeholder(tf.int32, shape=[batch_size], name=\"focal_words\")\n",
    "context_input       = tf.placeholder(tf.int32, shape=[batch_size], name=\"context_words\")\n",
    "cooccurence_count   = tf.placeholder(tf.float32, shape=[batch_size], name=\"cooccurence_count\")\n",
    "# epsilon          \n",
    "#full embedding size variables\n",
    "focal_embeddings    = tf.Variable(tf.random_uniform([vocab_size, embedding_size], -1.0, 1.0), name=\"focal_embeddings\")\n",
    "context_embeddings  = tf.Variable(tf.random_uniform([vocab_size, embedding_size], -1.0, 1.0), name=\"context_embeddings\")\n",
    "focal_biases        = tf.Variable(tf.random_uniform([vocab_size], -1.0, 1.0), name=\"focal_biases\")\n",
    "context_biases      = tf.Variable(tf.random_uniform([vocab_size], -1.0, 1.0), name=\"context_biases\")\n",
    "#embeddings lookup\n",
    "focal_embedding     = tf.nn.embedding_lookup([focal_embeddings], focal_input)\n",
    "context_embedding   = tf.nn.embedding_lookup([context_embeddings], context_input)\n",
    "focal_bias          = tf.nn.embedding_lookup([focal_biases], focal_input)\n",
    "context_bias        = tf.nn.embedding_lookup([context_biases], context_input)\n",
    "product             = tf.multiply(focal_embedding, context_embedding)\n",
    "embedding_product   = tf.reduce_sum(tf.multiply(focal_embedding, context_embedding), 1)\n",
    "cooccurence_epsilon = cooccurence_count+1e-10\n",
    "log_cooccurences    = tf.log(cooccurence_epsilon)\n",
    "distance_expr       = tf.square(tf.add_n([\n",
    "                        embedding_product,\n",
    "                        focal_bias,\n",
    "                        context_bias,\n",
    "                        tf.negative(log_cooccurences)]))\n",
    "count_max           = tf.constant([cooccurence_cap], dtype=tf.float32, name=\"max_cooccurence_count\")\n",
    "scaling_factor_input      = tf.constant([scaling_factor], dtype=tf.float32, name=\"scaling_factor\")\n",
    "weighting_factor    = tf.minimum(1.0, tf.pow(tf.div(cooccurence_count, count_max), scaling_factor_input))\n",
    "single_losses       = tf.multiply(weighting_factor, distance_expr)\n",
    "total_loss          = tf.reduce_sum(single_losses)\n",
    "optimizer           = tf.train.AdagradOptimizer(learning_rate).minimize(total_loss)\n",
    "combined_embeddings = tf.add(focal_embeddings, context_embeddings, name=\"combined_embeddings\")\n"
   ]
  },
  {
   "cell_type": "code",
   "execution_count": 21,
   "metadata": {
    "collapsed": true
   },
   "outputs": [],
   "source": [
    "def batchify(batch_size, *sequences):\n",
    "    for i in range(0, len(sequences[0]), batch_size):\n",
    "        yield tuple(sequence[i:i+batch_size] for sequence in sequences)\n",
    "\n",
    "def prepare_batches():\n",
    "    #get cooccurence matrix as list of elements and return each list as batch\n",
    "    cooccurrences = [(word_ids[0], word_ids[1], count) for word_ids, count in cooccurence_matrix.items()]\n",
    "    i_indices, j_indices, counts = zip(*cooccurrences)\n",
    "    return list(batchify(batch_size, i_indices, j_indices, counts))"
   ]
  },
  {
   "cell_type": "code",
   "execution_count": 22,
   "metadata": {
    "collapsed": true
   },
   "outputs": [],
   "source": [
    "import matplotlib.pyplot as plt\n",
    "from sklearn.manifold import TSNE\n",
    "\n",
    "def plot_with_labels(low_dim_embs, labels, path, size):\n",
    "    figure = plt.figure(figsize=size)  # in inches\n",
    "    for i, label in enumerate(labels):\n",
    "        #for each label get its x and y position.\n",
    "        x, y = low_dim_embs[i, :]\n",
    "        plt.scatter(x, y)\n",
    "        #text of annotation, xyposition, place label, coordinate system, \n",
    "        plt.annotate(label, xy=(x, y), xytext=(5, 2), textcoords='offset points', ha='right',\n",
    "                     va='bottom')\n",
    "    if path is not None:\n",
    "        figure.savefig(path)\n",
    "        plt.close(figure)\n",
    "\n",
    "def generate_tsne(path, size=(10, 10), word_count=1000, embeddings=None):\n",
    "    #get tsne representation\n",
    "    tsne         = TSNE(perplexity=30, n_components=2, init='pca', n_iter=5000)\n",
    "    #get the tsne transformation for each embedding\n",
    "    low_dim_embs = tsne.fit_transform(embeddings[:word_count, :])\n",
    "    #get label to assign for each point in embedding space\n",
    "    labels       = words[:word_count]\n",
    "    return plot_with_labels(low_dim_embs, labels, path, size)\n"
   ]
  },
  {
   "cell_type": "code",
   "execution_count": 23,
   "metadata": {
    "collapsed": false
   },
   "outputs": [],
   "source": [
    "def train(num_epochs):\n",
    "    #get the batches\n",
    "    total_steps=0\n",
    "    batches = prepare_batches()\n",
    "    with tf.Session() as sess:\n",
    "        tf.global_variables_initializer().run()\n",
    "        for epoch in range(num_epochs):\n",
    "            for batch_index, batch in enumerate(batches):\n",
    "                i_s, j_s, counts = batch\n",
    "                feed_dict = {focal_input:i_s, context_input:j_s, cooccurence_count:counts}\n",
    "                sess.run([optimizer], feed_dict=feed_dict)\n",
    "                total_steps+=1\n",
    "            if epoch%epoch_loss_print==0:\n",
    "                loss = sess.run([total_loss], feed_dict)\n",
    "                print(\"Loss is \" + str(loss))\n",
    "            if epoch%epoch_tsne_print==0:\n",
    "                embeddings      = combined_embeddings.eval()\n",
    "                outputLocation  = \"\"\n",
    "                output_path = os.path.join(log_dir, \"epoch{:03d}.jpeg\".format(epoch))\n",
    "                generate_tsne(output_path, embeddings=embeddings)\n",
    "        embeddings = combined_embeddings.eval()\n",
    "    return embeddings"
   ]
  },
  {
   "cell_type": "code",
   "execution_count": 24,
   "metadata": {
    "collapsed": false
   },
   "outputs": [
    {
     "name": "stdout",
     "output_type": "stream",
     "text": [
      "Loss is [3.5839138]\n"
     ]
    },
    {
     "ename": "FileNotFoundError",
     "evalue": "[Errno 2] No such file or directory: './logs/epoch000.jpeg'",
     "output_type": "error",
     "traceback": [
      "\u001b[0;31m---------------------------------------------------------------------------\u001b[0m",
      "\u001b[0;31mFileNotFoundError\u001b[0m                         Traceback (most recent call last)",
      "\u001b[0;32m<ipython-input-24-c0dac3a7099f>\u001b[0m in \u001b[0;36m<module>\u001b[0;34m\u001b[0m\n\u001b[0;32m----> 1\u001b[0;31m \u001b[0membeddings\u001b[0m \u001b[0;34m=\u001b[0m \u001b[0mtrain\u001b[0m\u001b[0;34m(\u001b[0m\u001b[0;36m200\u001b[0m\u001b[0;34m)\u001b[0m\u001b[0;34m\u001b[0m\u001b[0m\n\u001b[0m\u001b[1;32m      2\u001b[0m \u001b[0;31m# print(embeddings)\u001b[0m\u001b[0;34m\u001b[0m\u001b[0;34m\u001b[0m\u001b[0m\n",
      "\u001b[0;32m<ipython-input-23-e7c74878d00c>\u001b[0m in \u001b[0;36mtrain\u001b[0;34m(num_epochs)\u001b[0m\n\u001b[1;32m     18\u001b[0m                 \u001b[0moutputLocation\u001b[0m  \u001b[0;34m=\u001b[0m \u001b[0;34m\"\"\u001b[0m\u001b[0;34m\u001b[0m\u001b[0m\n\u001b[1;32m     19\u001b[0m                 \u001b[0moutput_path\u001b[0m \u001b[0;34m=\u001b[0m \u001b[0mos\u001b[0m\u001b[0;34m.\u001b[0m\u001b[0mpath\u001b[0m\u001b[0;34m.\u001b[0m\u001b[0mjoin\u001b[0m\u001b[0;34m(\u001b[0m\u001b[0mlog_dir\u001b[0m\u001b[0;34m,\u001b[0m \u001b[0;34m\"epoch{:03d}.jpeg\"\u001b[0m\u001b[0;34m.\u001b[0m\u001b[0mformat\u001b[0m\u001b[0;34m(\u001b[0m\u001b[0mepoch\u001b[0m\u001b[0;34m)\u001b[0m\u001b[0;34m)\u001b[0m\u001b[0;34m\u001b[0m\u001b[0m\n\u001b[0;32m---> 20\u001b[0;31m                 \u001b[0mgenerate_tsne\u001b[0m\u001b[0;34m(\u001b[0m\u001b[0moutput_path\u001b[0m\u001b[0;34m,\u001b[0m \u001b[0membeddings\u001b[0m\u001b[0;34m=\u001b[0m\u001b[0membeddings\u001b[0m\u001b[0;34m)\u001b[0m\u001b[0;34m\u001b[0m\u001b[0m\n\u001b[0m\u001b[1;32m     21\u001b[0m         \u001b[0membeddings\u001b[0m \u001b[0;34m=\u001b[0m \u001b[0mcombined_embeddings\u001b[0m\u001b[0;34m.\u001b[0m\u001b[0meval\u001b[0m\u001b[0;34m(\u001b[0m\u001b[0;34m)\u001b[0m\u001b[0;34m\u001b[0m\u001b[0m\n\u001b[1;32m     22\u001b[0m     \u001b[0;32mreturn\u001b[0m \u001b[0membeddings\u001b[0m\u001b[0;34m\u001b[0m\u001b[0m\n",
      "\u001b[0;32m<ipython-input-22-2a5f0967e57f>\u001b[0m in \u001b[0;36mgenerate_tsne\u001b[0;34m(path, size, word_count, embeddings)\u001b[0m\n\u001b[1;32m     22\u001b[0m     \u001b[0;31m#get label to assign for each point in embedding space\u001b[0m\u001b[0;34m\u001b[0m\u001b[0;34m\u001b[0m\u001b[0m\n\u001b[1;32m     23\u001b[0m     \u001b[0mlabels\u001b[0m       \u001b[0;34m=\u001b[0m \u001b[0mwords\u001b[0m\u001b[0;34m[\u001b[0m\u001b[0;34m:\u001b[0m\u001b[0mword_count\u001b[0m\u001b[0;34m]\u001b[0m\u001b[0;34m\u001b[0m\u001b[0m\n\u001b[0;32m---> 24\u001b[0;31m     \u001b[0;32mreturn\u001b[0m \u001b[0mplot_with_labels\u001b[0m\u001b[0;34m(\u001b[0m\u001b[0mlow_dim_embs\u001b[0m\u001b[0;34m,\u001b[0m \u001b[0mlabels\u001b[0m\u001b[0;34m,\u001b[0m \u001b[0mpath\u001b[0m\u001b[0;34m,\u001b[0m \u001b[0msize\u001b[0m\u001b[0;34m)\u001b[0m\u001b[0;34m\u001b[0m\u001b[0m\n\u001b[0m",
      "\u001b[0;32m<ipython-input-22-2a5f0967e57f>\u001b[0m in \u001b[0;36mplot_with_labels\u001b[0;34m(low_dim_embs, labels, path, size)\u001b[0m\n\u001b[1;32m     12\u001b[0m                      va='bottom')\n\u001b[1;32m     13\u001b[0m     \u001b[0;32mif\u001b[0m \u001b[0mpath\u001b[0m \u001b[0;32mis\u001b[0m \u001b[0;32mnot\u001b[0m \u001b[0;32mNone\u001b[0m\u001b[0;34m:\u001b[0m\u001b[0;34m\u001b[0m\u001b[0m\n\u001b[0;32m---> 14\u001b[0;31m         \u001b[0mfigure\u001b[0m\u001b[0;34m.\u001b[0m\u001b[0msavefig\u001b[0m\u001b[0;34m(\u001b[0m\u001b[0mpath\u001b[0m\u001b[0;34m)\u001b[0m\u001b[0;34m\u001b[0m\u001b[0m\n\u001b[0m\u001b[1;32m     15\u001b[0m         \u001b[0mplt\u001b[0m\u001b[0;34m.\u001b[0m\u001b[0mclose\u001b[0m\u001b[0;34m(\u001b[0m\u001b[0mfigure\u001b[0m\u001b[0;34m)\u001b[0m\u001b[0;34m\u001b[0m\u001b[0m\n\u001b[1;32m     16\u001b[0m \u001b[0;34m\u001b[0m\u001b[0m\n",
      "\u001b[0;32m/usr/local/lib/python3.5/dist-packages/matplotlib/figure.py\u001b[0m in \u001b[0;36msavefig\u001b[0;34m(self, fname, frameon, transparent, **kwargs)\u001b[0m\n\u001b[1;32m   2092\u001b[0m             \u001b[0mself\u001b[0m\u001b[0;34m.\u001b[0m\u001b[0mset_frameon\u001b[0m\u001b[0;34m(\u001b[0m\u001b[0mframeon\u001b[0m\u001b[0;34m)\u001b[0m\u001b[0;34m\u001b[0m\u001b[0m\n\u001b[1;32m   2093\u001b[0m \u001b[0;34m\u001b[0m\u001b[0m\n\u001b[0;32m-> 2094\u001b[0;31m         \u001b[0mself\u001b[0m\u001b[0;34m.\u001b[0m\u001b[0mcanvas\u001b[0m\u001b[0;34m.\u001b[0m\u001b[0mprint_figure\u001b[0m\u001b[0;34m(\u001b[0m\u001b[0mfname\u001b[0m\u001b[0;34m,\u001b[0m \u001b[0;34m**\u001b[0m\u001b[0mkwargs\u001b[0m\u001b[0;34m)\u001b[0m\u001b[0;34m\u001b[0m\u001b[0m\n\u001b[0m\u001b[1;32m   2095\u001b[0m \u001b[0;34m\u001b[0m\u001b[0m\n\u001b[1;32m   2096\u001b[0m         \u001b[0;32mif\u001b[0m \u001b[0mframeon\u001b[0m\u001b[0;34m:\u001b[0m\u001b[0;34m\u001b[0m\u001b[0m\n",
      "\u001b[0;32m/usr/local/lib/python3.5/dist-packages/matplotlib/backend_bases.py\u001b[0m in \u001b[0;36mprint_figure\u001b[0;34m(self, filename, dpi, facecolor, edgecolor, orientation, format, bbox_inches, **kwargs)\u001b[0m\n\u001b[1;32m   2073\u001b[0m                     \u001b[0morientation\u001b[0m\u001b[0;34m=\u001b[0m\u001b[0morientation\u001b[0m\u001b[0;34m,\u001b[0m\u001b[0;34m\u001b[0m\u001b[0m\n\u001b[1;32m   2074\u001b[0m                     \u001b[0mbbox_inches_restore\u001b[0m\u001b[0;34m=\u001b[0m\u001b[0m_bbox_inches_restore\u001b[0m\u001b[0;34m,\u001b[0m\u001b[0;34m\u001b[0m\u001b[0m\n\u001b[0;32m-> 2075\u001b[0;31m                     **kwargs)\n\u001b[0m\u001b[1;32m   2076\u001b[0m             \u001b[0;32mfinally\u001b[0m\u001b[0;34m:\u001b[0m\u001b[0;34m\u001b[0m\u001b[0m\n\u001b[1;32m   2077\u001b[0m                 \u001b[0;32mif\u001b[0m \u001b[0mbbox_inches\u001b[0m \u001b[0;32mand\u001b[0m \u001b[0mrestore_bbox\u001b[0m\u001b[0;34m:\u001b[0m\u001b[0;34m\u001b[0m\u001b[0m\n",
      "\u001b[0;32m/usr/local/lib/python3.5/dist-packages/matplotlib/backends/backend_agg.py\u001b[0m in \u001b[0;36mprint_jpg\u001b[0;34m(self, filename_or_obj, dryrun, *args, **kwargs)\u001b[0m\n\u001b[1;32m    576\u001b[0m                 \u001b[0moptions\u001b[0m\u001b[0;34m[\u001b[0m\u001b[0;34m'dpi'\u001b[0m\u001b[0;34m]\u001b[0m \u001b[0;34m=\u001b[0m \u001b[0;34m(\u001b[0m\u001b[0moptions\u001b[0m\u001b[0;34m[\u001b[0m\u001b[0;34m'dpi'\u001b[0m\u001b[0;34m]\u001b[0m\u001b[0;34m,\u001b[0m \u001b[0moptions\u001b[0m\u001b[0;34m[\u001b[0m\u001b[0;34m'dpi'\u001b[0m\u001b[0;34m]\u001b[0m\u001b[0;34m)\u001b[0m\u001b[0;34m\u001b[0m\u001b[0m\n\u001b[1;32m    577\u001b[0m \u001b[0;34m\u001b[0m\u001b[0m\n\u001b[0;32m--> 578\u001b[0;31m             \u001b[0;32mreturn\u001b[0m \u001b[0mbackground\u001b[0m\u001b[0;34m.\u001b[0m\u001b[0msave\u001b[0m\u001b[0;34m(\u001b[0m\u001b[0mfilename_or_obj\u001b[0m\u001b[0;34m,\u001b[0m \u001b[0mformat\u001b[0m\u001b[0;34m=\u001b[0m\u001b[0;34m'jpeg'\u001b[0m\u001b[0;34m,\u001b[0m \u001b[0;34m**\u001b[0m\u001b[0moptions\u001b[0m\u001b[0;34m)\u001b[0m\u001b[0;34m\u001b[0m\u001b[0m\n\u001b[0m\u001b[1;32m    579\u001b[0m         \u001b[0mprint_jpeg\u001b[0m \u001b[0;34m=\u001b[0m \u001b[0mprint_jpg\u001b[0m\u001b[0;34m\u001b[0m\u001b[0m\n\u001b[1;32m    580\u001b[0m \u001b[0;34m\u001b[0m\u001b[0m\n",
      "\u001b[0;32m/usr/local/lib/python3.5/dist-packages/PIL/Image.py\u001b[0m in \u001b[0;36msave\u001b[0;34m(self, fp, format, **params)\u001b[0m\n\u001b[1;32m   1945\u001b[0m                 \u001b[0;31m# Open also for reading (\"+\"), because TIFF save_all\u001b[0m\u001b[0;34m\u001b[0m\u001b[0;34m\u001b[0m\u001b[0m\n\u001b[1;32m   1946\u001b[0m                 \u001b[0;31m# writer needs to go back and edit the written data.\u001b[0m\u001b[0;34m\u001b[0m\u001b[0;34m\u001b[0m\u001b[0m\n\u001b[0;32m-> 1947\u001b[0;31m                 \u001b[0mfp\u001b[0m \u001b[0;34m=\u001b[0m \u001b[0mbuiltins\u001b[0m\u001b[0;34m.\u001b[0m\u001b[0mopen\u001b[0m\u001b[0;34m(\u001b[0m\u001b[0mfilename\u001b[0m\u001b[0;34m,\u001b[0m \u001b[0;34m\"w+b\"\u001b[0m\u001b[0;34m)\u001b[0m\u001b[0;34m\u001b[0m\u001b[0m\n\u001b[0m\u001b[1;32m   1948\u001b[0m \u001b[0;34m\u001b[0m\u001b[0m\n\u001b[1;32m   1949\u001b[0m         \u001b[0;32mtry\u001b[0m\u001b[0;34m:\u001b[0m\u001b[0;34m\u001b[0m\u001b[0m\n",
      "\u001b[0;31mFileNotFoundError\u001b[0m: [Errno 2] No such file or directory: './logs/epoch000.jpeg'"
     ]
    },
    {
     "data": {
      "image/png": "[encoded data removed]",
      "text/plain": [
       "<Figure size 720x720 with 1 Axes>"
      ]
     },
     "metadata": {
      "needs_background": "light"
     },
     "output_type": "display_data"
    }
   ],
   "source": [
    "embeddings = train(200)\n",
    "# print(embeddings)"
   ]
  },
  {
   "cell_type": "code",
   "execution_count": 179,
   "metadata": {
    "collapsed": false
   },
   "outputs": [
    {
     "name": "stdout",
     "output_type": "stream",
     "text": [
      "Image generated\n"
     ]
    }
   ],
   "source": [
    "output_path = os.path.join(log_dir, \"final_embeddings.jpeg\")\n",
    "generate_tsne(output_path, embeddings=embeddings)\n",
    "print(\"Image generated\")"
   ]
  },
  {
   "cell_type": "code",
   "execution_count": null,
   "metadata": {
    "collapsed": true
   },
   "outputs": [],
   "source": [
    "#understand how the full code works with functions written in matrix\n",
    "#refactor for printing and the corpus fully built up."
   ]
  },
  {
   "cell_type": "code",
   "execution_count": null,
   "metadata": {
    "collapsed": true
   },
   "outputs": [],
   "source": [
    "#plotting the t-SNE section"
   ]
  }
 ],
 "metadata": {
  "kernelspec": {
   "display_name": "Python 3",
   "language": "python",
   "name": "python3"
  },
  "language_info": {
   "codemirror_mode": {
    "name": "ipython",
    "version": 3
   },
   "file_extension": ".py",
   "mimetype": "text/x-python",
   "name": "python",
   "nbconvert_exporter": "python",
   "pygments_lexer": "ipython3",
   "version": "3.5.3"
  }
 },
 "nbformat": 4,
 "nbformat_minor": 2
}
