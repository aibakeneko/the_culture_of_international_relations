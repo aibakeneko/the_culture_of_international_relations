{
 "cells": [
  {
   "cell_type": "markdown",
   "metadata": {},
   "source": [
    "## Stanford Core NLP\n",
    "\n",
    "### Download\n",
    "\n",
    "Download CoreNLP and relevant languages models from https://stanfordnlp.github.io/CoreNLP/download.html\n",
    "\n",
    "Dependencies: nltk python3-tk\n"
   ]
  },
  {
   "cell_type": "code",
   "execution_count": 24,
   "metadata": {},
   "outputs": [],
   "source": [
    "%matplotlib inline\n",
    "\n",
    "import os \n",
    "import warnings\n",
    "import matplotlib as mpl\n",
    "\n",
    "if os.environ.get('DISPLAY','') == '':\n",
    "    print('no display found. Using non-interactive Agg backend')\n",
    "    mpl.use('Agg')\n",
    "    \n",
    "import matplotlib.pyplot as plt\n",
    "\n",
    "mpl.rcParams['figure.figsize'] = [9.0, 6.0]\n",
    "warnings.simplefilter(\"ignore\")\n"
   ]
  },
  {
   "cell_type": "code",
   "execution_count": null,
   "metadata": {},
   "outputs": [],
   "source": [
    "# Starting the CoreNLPServer \n",
    "from nltk.parse.corenlp import CoreNLPServer \n",
    "\n",
    "\n",
    "# The server needs to know the location of the following files:\n",
    "#   - stanford-corenlp-X.X.X.jar \n",
    "#   - stanford-corenlp-X.X.X-models.jar \n",
    "\n",
    "STANFORD = '/home/roger/StanfordCoreNLP/stanford-corenlp-full-2018-10-05'\n",
    "\n",
    "# Create the server \n",
    "server = CoreNLPServer(\n",
    "    os.path.join(STANFORD, \"stanford-corenlp-3.9.2.jar\"),\n",
    "    os.path.join(STANFORD, \"stanford-corenlp-3.9.2-models.jar\"),    \n",
    ")\n",
    "\n",
    "# Start the server in the background \n",
    "server.start()"
   ]
  },
  {
   "cell_type": "code",
   "execution_count": 65,
   "metadata": {},
   "outputs": [
    {
     "name": "stdout",
     "output_type": "stream",
     "text": [
      "                         ROOT                              \n",
      "                          |                                 \n",
      "                          S                                \n",
      "  ________________________|______________________________   \n",
      " |                        VP                             | \n",
      " |    ____________________|________________              |  \n",
      " |   |       |            PP               PP            | \n",
      " |   |       |         ___|____         ___|___          |  \n",
      " NP  |       NP       |        NP      |       NP        | \n",
      " |   |    ___|___     |    ____|___    |    ___|____     |  \n",
      "PRP VBD  DT      NN   IN  DT       NN  IN  DT       NN   . \n",
      " |   |   |       |    |   |        |   |   |        |    |  \n",
      " I  put the     book  in the      box  on the     table  . \n",
      "\n"
     ]
    }
   ],
   "source": [
    "from nltk.parse.corenlp import CoreNLPParser \n",
    "# https://www.nltk.org/_modules/nltk/parse/corenlp.html\n",
    "mpl.use('Agg')\n",
    "parser = CoreNLPParser()\n",
    "parse = next(parser.raw_parse(\"I put the book in the box on the table.\"))\n",
    "parse.pretty_print()"
   ]
  },
  {
   "cell_type": "code",
   "execution_count": 69,
   "metadata": {},
   "outputs": [
    {
     "name": "stdout",
     "output_type": "stream",
     "text": [
      "(put I (book the) (box in the) (table on the) .)\n",
      "\n",
      "I\tPRP\t2\tnsubj\n",
      "put\tVBD\t0\tROOT\n",
      "the\tDT\t4\tdet\n",
      "book\tNN\t2\tdobj\n",
      "in\tIN\t7\tcase\n",
      "the\tDT\t7\tdet\n",
      "box\tNN\t2\tnmod\n",
      "on\tIN\t10\tcase\n",
      "the\tDT\t10\tdet\n",
      "table\tNN\t2\tnmod\n",
      ".\t.\t2\tpunct\n",
      "\n",
      "('put', 'VBD') nsubj ('I', 'PRP')\n",
      "('put', 'VBD') dobj ('book', 'NN')\n",
      "('book', 'NN') det ('the', 'DT')\n",
      "('put', 'VBD') nmod ('box', 'NN')\n",
      "('box', 'NN') case ('in', 'IN')\n",
      "('box', 'NN') det ('the', 'DT')\n",
      "('put', 'VBD') nmod ('table', 'NN')\n",
      "('table', 'NN') case ('on', 'IN')\n",
      "('table', 'NN') det ('the', 'DT')\n",
      "('put', 'VBD') punct ('.', '.')\n"
     ]
    }
   ],
   "source": [
    "from nltk.parse.corenlp import CoreNLPDependencyParser \n",
    "\n",
    "parser = CoreNLPDependencyParser()\n",
    "\n",
    "parse = next(parser.raw_parse(\"I put the book in the box on the table.\"))\n",
    "\n",
    "print(parse.tree())\n",
    "\n",
    "print(\"\")\n",
    "\n",
    "print(parse.to_conll(4))\n",
    "\n",
    "for governor, dep, dependent in parse.triples(): \n",
    "     print(governor, dep, dependent)\n",
    "        \n",
    "server.stop()  "
   ]
  },
  {
   "cell_type": "code",
   "execution_count": 1,
   "metadata": {},
   "outputs": [
    {
     "data": {
      "text/html": [
       "<svg xmlns=\"http://www.w3.org/2000/svg\" xmlns:xlink=\"http://www.w3.org/1999/xlink\" id=\"0\" class=\"displacy\" width=\"1450\" height=\"312.0\" style=\"max-width: none; height: 312.0px; color: #000000; background: #ffffff; font-family: Arial\"><text class=\"displacy-token\" fill=\"currentColor\" text-anchor=\"middle\" y=\"222.0\"><tspan class=\"displacy-word\" fill=\"currentColor\" x=\"50\">The</tspan><tspan class=\"displacy-tag\" dy=\"2em\" fill=\"currentColor\" x=\"50\">DET</tspan></text><text class=\"displacy-token\" fill=\"currentColor\" text-anchor=\"middle\" y=\"222.0\"><tspan class=\"displacy-word\" fill=\"currentColor\" x=\"225\">apple</tspan><tspan class=\"displacy-tag\" dy=\"2em\" fill=\"currentColor\" x=\"225\">NOUN</tspan></text><text class=\"displacy-token\" fill=\"currentColor\" text-anchor=\"middle\" y=\"222.0\"><tspan class=\"displacy-word\" fill=\"currentColor\" x=\"400\">dropped</tspan><tspan class=\"displacy-tag\" dy=\"2em\" fill=\"currentColor\" x=\"400\">VERB</tspan></text><text class=\"displacy-token\" fill=\"currentColor\" text-anchor=\"middle\" y=\"222.0\"><tspan class=\"displacy-word\" fill=\"currentColor\" x=\"575\">not</tspan><tspan class=\"displacy-tag\" dy=\"2em\" fill=\"currentColor\" x=\"575\">ADV</tspan></text><text class=\"displacy-token\" fill=\"currentColor\" text-anchor=\"middle\" y=\"222.0\"><tspan class=\"displacy-word\" fill=\"currentColor\" x=\"750\">far</tspan><tspan class=\"displacy-tag\" dy=\"2em\" fill=\"currentColor\" x=\"750\">ADV</tspan></text><text class=\"displacy-token\" fill=\"currentColor\" text-anchor=\"middle\" y=\"222.0\"><tspan class=\"displacy-word\" fill=\"currentColor\" x=\"925\">from</tspan><tspan class=\"displacy-tag\" dy=\"2em\" fill=\"currentColor\" x=\"925\">ADP</tspan></text><text class=\"displacy-token\" fill=\"currentColor\" text-anchor=\"middle\" y=\"222.0\"><tspan class=\"displacy-word\" fill=\"currentColor\" x=\"1100\">his</tspan><tspan class=\"displacy-tag\" dy=\"2em\" fill=\"currentColor\" x=\"1100\">ADJ</tspan></text><text class=\"displacy-token\" fill=\"currentColor\" text-anchor=\"middle\" y=\"222.0\"><tspan class=\"displacy-word\" fill=\"currentColor\" x=\"1275\">head.</tspan><tspan class=\"displacy-tag\" dy=\"2em\" fill=\"currentColor\" x=\"1275\">NOUN</tspan></text><g class=\"displacy-arrow\"><path class=\"displacy-arc\" id=\"arrow-0-0\" stroke-width=\"2px\" d=\"M70,177.0 C70,89.5 220.0,89.5 220.0,177.0\" fill=\"none\" stroke=\"currentColor\"/><text dy=\"1.25em\" style=\"font-size: 0.8em; letter-spacing: 1px\"><textPath xlink:href=\"#arrow-0-0\" class=\"displacy-label\" startOffset=\"50%\" fill=\"currentColor\" text-anchor=\"middle\">det</textPath></text><path class=\"displacy-arrowhead\" d=\"M70,179.0 L62,167.0 78,167.0\" fill=\"currentColor\"/></g><g class=\"displacy-arrow\"><path class=\"displacy-arc\" id=\"arrow-0-1\" stroke-width=\"2px\" d=\"M245,177.0 C245,89.5 395.0,89.5 395.0,177.0\" fill=\"none\" stroke=\"currentColor\"/><text dy=\"1.25em\" style=\"font-size: 0.8em; letter-spacing: 1px\"><textPath xlink:href=\"#arrow-0-1\" class=\"displacy-label\" startOffset=\"50%\" fill=\"currentColor\" text-anchor=\"middle\">nsubj</textPath></text><path class=\"displacy-arrowhead\" d=\"M245,179.0 L237,167.0 253,167.0\" fill=\"currentColor\"/></g><g class=\"displacy-arrow\"><path class=\"displacy-arc\" id=\"arrow-0-2\" stroke-width=\"2px\" d=\"M595,177.0 C595,89.5 745.0,89.5 745.0,177.0\" fill=\"none\" stroke=\"currentColor\"/><text dy=\"1.25em\" style=\"font-size: 0.8em; letter-spacing: 1px\"><textPath xlink:href=\"#arrow-0-2\" class=\"displacy-label\" startOffset=\"50%\" fill=\"currentColor\" text-anchor=\"middle\">neg</textPath></text><path class=\"displacy-arrowhead\" d=\"M595,179.0 L587,167.0 603,167.0\" fill=\"currentColor\"/></g><g class=\"displacy-arrow\"><path class=\"displacy-arc\" id=\"arrow-0-3\" stroke-width=\"2px\" d=\"M420,177.0 C420,2.0 750.0,2.0 750.0,177.0\" fill=\"none\" stroke=\"currentColor\"/><text dy=\"1.25em\" style=\"font-size: 0.8em; letter-spacing: 1px\"><textPath xlink:href=\"#arrow-0-3\" class=\"displacy-label\" startOffset=\"50%\" fill=\"currentColor\" text-anchor=\"middle\">advmod</textPath></text><path class=\"displacy-arrowhead\" d=\"M750.0,179.0 L758.0,167.0 742.0,167.0\" fill=\"currentColor\"/></g><g class=\"displacy-arrow\"><path class=\"displacy-arc\" id=\"arrow-0-4\" stroke-width=\"2px\" d=\"M770,177.0 C770,89.5 920.0,89.5 920.0,177.0\" fill=\"none\" stroke=\"currentColor\"/><text dy=\"1.25em\" style=\"font-size: 0.8em; letter-spacing: 1px\"><textPath xlink:href=\"#arrow-0-4\" class=\"displacy-label\" startOffset=\"50%\" fill=\"currentColor\" text-anchor=\"middle\">prep</textPath></text><path class=\"displacy-arrowhead\" d=\"M920.0,179.0 L928.0,167.0 912.0,167.0\" fill=\"currentColor\"/></g><g class=\"displacy-arrow\"><path class=\"displacy-arc\" id=\"arrow-0-5\" stroke-width=\"2px\" d=\"M1120,177.0 C1120,89.5 1270.0,89.5 1270.0,177.0\" fill=\"none\" stroke=\"currentColor\"/><text dy=\"1.25em\" style=\"font-size: 0.8em; letter-spacing: 1px\"><textPath xlink:href=\"#arrow-0-5\" class=\"displacy-label\" startOffset=\"50%\" fill=\"currentColor\" text-anchor=\"middle\">poss</textPath></text><path class=\"displacy-arrowhead\" d=\"M1120,179.0 L1112,167.0 1128,167.0\" fill=\"currentColor\"/></g><g class=\"displacy-arrow\"><path class=\"displacy-arc\" id=\"arrow-0-6\" stroke-width=\"2px\" d=\"M945,177.0 C945,2.0 1275.0,2.0 1275.0,177.0\" fill=\"none\" stroke=\"currentColor\"/><text dy=\"1.25em\" style=\"font-size: 0.8em; letter-spacing: 1px\"><textPath xlink:href=\"#arrow-0-6\" class=\"displacy-label\" startOffset=\"50%\" fill=\"currentColor\" text-anchor=\"middle\">pobj</textPath></text><path class=\"displacy-arrowhead\" d=\"M1275.0,179.0 L1283.0,167.0 1267.0,167.0\" fill=\"currentColor\"/></g></svg>"
      ],
      "text/plain": [
       "<IPython.core.display.HTML object>"
      ]
     },
     "metadata": {},
     "output_type": "display_data"
    }
   ],
   "source": [
    "import spacy \n",
    "from spacy import displacy\n",
    "\n",
    "# Load the english language models\n",
    "# Required: python -m spacy download en \n",
    "EN = spacy.load(\"en\")\n",
    "\n",
    "\n",
    "# Parse and analyze the sentence/document \n",
    "doc = EN(\"The apple dropped not far from his head.\")\n",
    "\n",
    "# Draw the dependency tree into the notebook \n",
    "displacy.render(doc, style='dep', minify=True, jupyter=True)"
   ]
  },
  {
   "cell_type": "code",
   "execution_count": 71,
   "metadata": {},
   "outputs": [
    {
     "name": "stdout",
     "output_type": "stream",
     "text": [
      "The autoreload extension is already loaded. To reload it, use:\n",
      "  %reload_ext autoreload\n"
     ]
    }
   ],
   "source": [
    "%load_ext autoreload\n",
    "%autoreload 2\n",
    "\n",
    "import treaty_corpus\n",
    "import os\n",
    "source_folder = '../data'\n",
    "source_path = os.path.join(source_folder, 'treaty_text_corpora_20181018.zip')\n",
    "\n",
    "pattern = '132090_en.txt'\n",
    "corpus_stream = treaty_corpus.CompressedFileReader(source_path, pattern=pattern)\n"
   ]
  },
  {
   "cell_type": "code",
   "execution_count": 75,
   "metadata": {},
   "outputs": [],
   "source": [
    "for document, content in corpus_stream:\n",
    "    print(document)"
   ]
  },
  {
   "cell_type": "code",
   "execution_count": 84,
   "metadata": {},
   "outputs": [],
   "source": [
    "spacy_doc = EN(content)"
   ]
  },
  {
   "cell_type": "code",
   "execution_count": 95,
   "metadata": {},
   "outputs": [
    {
     "name": "stdout",
     "output_type": "stream",
     "text": [
      "{'avg_words_per_sentence': 31.396551724137932,\n",
      " 'sentence_count': 58,\n",
      " 'token_lengths': {1: 170,\n",
      "                   2: 442,\n",
      "                   3: 263,\n",
      "                   4: 129,\n",
      "                   5: 144,\n",
      "                   6: 72,\n",
      "                   7: 171,\n",
      "                   8: 114,\n",
      "                   9: 120,\n",
      "                   10: 87,\n",
      "                   11: 65,\n",
      "                   12: 23,\n",
      "                   13: 9,\n",
      "                   14: 8,\n",
      "                   15: 2,\n",
      "                   17: 2},\n",
      " 'word_count': 1821}\n"
     ]
    },
    {
     "ename": "ValueError",
     "evalue": "DataFrame constructor not properly called!",
     "output_type": "error",
     "traceback": [
      "\u001b[0;31m---------------------------------------------------------------------------\u001b[0m",
      "\u001b[0;31mValueError\u001b[0m                                Traceback (most recent call last)",
      "\u001b[0;32m<ipython-input-95-e221e543bf16>\u001b[0m in \u001b[0;36m<module>\u001b[0;34m\u001b[0m\n\u001b[1;32m     18\u001b[0m \u001b[0;32mimport\u001b[0m \u001b[0mpandas\u001b[0m \u001b[0;32mas\u001b[0m \u001b[0mpd\u001b[0m\u001b[0;34m\u001b[0m\u001b[0m\n\u001b[1;32m     19\u001b[0m \u001b[0;34m\u001b[0m\u001b[0m\n\u001b[0;32m---> 20\u001b[0;31m \u001b[0mdf\u001b[0m \u001b[0;34m=\u001b[0m \u001b[0mpd\u001b[0m\u001b[0;34m.\u001b[0m\u001b[0mDataFrame\u001b[0m\u001b[0;34m(\u001b[0m\u001b[0mspacy_doc\u001b[0m\u001b[0;34m)\u001b[0m\u001b[0;34m\u001b[0m\u001b[0m\n\u001b[0m",
      "\u001b[0;32m/usr/local/lib/python3.5/dist-packages/pandas/core/frame.py\u001b[0m in \u001b[0;36m__init__\u001b[0;34m(self, data, index, columns, dtype, copy)\u001b[0m\n\u001b[1;32m    420\u001b[0m                                          dtype=values.dtype, copy=False)\n\u001b[1;32m    421\u001b[0m             \u001b[0;32melse\u001b[0m\u001b[0;34m:\u001b[0m\u001b[0;34m\u001b[0m\u001b[0m\n\u001b[0;32m--> 422\u001b[0;31m                 \u001b[0;32mraise\u001b[0m \u001b[0mValueError\u001b[0m\u001b[0;34m(\u001b[0m\u001b[0;34m'DataFrame constructor not properly called!'\u001b[0m\u001b[0;34m)\u001b[0m\u001b[0;34m\u001b[0m\u001b[0m\n\u001b[0m\u001b[1;32m    423\u001b[0m \u001b[0;34m\u001b[0m\u001b[0m\n\u001b[1;32m    424\u001b[0m         \u001b[0mNDFrame\u001b[0m\u001b[0;34m.\u001b[0m\u001b[0m__init__\u001b[0m\u001b[0;34m(\u001b[0m\u001b[0mself\u001b[0m\u001b[0;34m,\u001b[0m \u001b[0mmgr\u001b[0m\u001b[0;34m,\u001b[0m \u001b[0mfastpath\u001b[0m\u001b[0;34m=\u001b[0m\u001b[0;32mTrue\u001b[0m\u001b[0;34m)\u001b[0m\u001b[0;34m\u001b[0m\u001b[0m\n",
      "\u001b[0;31mValueError\u001b[0m: DataFrame constructor not properly called!"
     ]
    }
   ],
   "source": [
    "from pprint import pprint as pp\n",
    "from collections import Counter\n",
    "\n",
    "def document_statistics(spacy_doc):\n",
    "    \n",
    "    spacy_sentences = list(spacy_doc.sents)\n",
    "    token_length_histogram = Counter((len(x) for x in spacy_doc))\n",
    "    \n",
    "    return {\n",
    "        'word_count': len(spacy_doc),\n",
    "        'sentence_count': len(spacy_sentences),\n",
    "        'avg_words_per_sentence': len(spacy_doc) / len(spacy_sentences),\n",
    "        'token_lengths': dict(token_length_histogram)\n",
    "    }\n",
    "\n",
    "pp(document_statistics(spacy_doc))\n",
    "\n",
    "import pandas as pd\n",
    "\n",
    "df = pd.DataFrame(spacy_doc)\n"
   ]
  },
  {
   "cell_type": "code",
   "execution_count": 116,
   "metadata": {},
   "outputs": [],
   "source": [
    "from tabulate import tabulate \n",
    "\n",
    "def spacy_doc_2_df(spacy_doc, ignore_tags=None, ignore_pos=None):\n",
    "    ignore_tags = ignore_tags or ['_SP']\n",
    "    ignore_pos = ignore_pos or []\n",
    "    df_source = ({\n",
    "        \"Text\": w.text,\n",
    "        \"Lemma\": w.lemma_,\n",
    "        \"POS\": w.pos_,\n",
    "        \"Tag\": w.tag_,\n",
    "        \"Dep\": w.dep_,\n",
    "        \"Alpha\": w.is_alpha,\n",
    "        \"Stop\": w.is_stop\n",
    "    } for w in spacy_doc\n",
    "        if w.tag_ not in ignore_tags\n",
    "        and w.pos_ not in ignore_pos)\n",
    "    return pd.DataFrame(df_source)\n",
    "\n",
    "def print_tablulated(spacy_doc, count):\n",
    "    for token in spacy_doc[:count]:\n",
    "        table.append([\n",
    "            token.text, token.lemma_, token.pos_, token.tag_, \n",
    "            token.dep_, token.is_alpha, token.is_stop\n",
    "        ])\n",
    "    print(tabulate(table, tablefmt=\"simple\", headers=\"firstrow\"))\n",
    "    \n",
    "df = spacy_doc_2_df(spacy_doc, ignore_tags=['_SP'], ignore_pos=['PUNCT'])\n"
   ]
  },
  {
   "cell_type": "code",
   "execution_count": 124,
   "metadata": {},
   "outputs": [
    {
     "data": {
      "text/plain": [
       "POS\n",
       "ADJ      158\n",
       "ADP      257\n",
       "ADV       29\n",
       "CCONJ     81\n",
       "DET      189\n",
       "INTJ       1\n",
       "NOUN     362\n",
       "NUM       38\n",
       "PART      21\n",
       "PRON      12\n",
       "PROPN    149\n",
       "VERB     221\n",
       "dtype: int64"
      ]
     },
     "execution_count": 124,
     "metadata": {},
     "output_type": "execute_result"
    }
   ],
   "source": [
    "df.groupby([df.POS]).size()"
   ]
  },
  {
   "cell_type": "code",
   "execution_count": 120,
   "metadata": {},
   "outputs": [],
   "source": [
    "from spacy.parts_of_speech import IDS"
   ]
  },
  {
   "cell_type": "code",
   "execution_count": 122,
   "metadata": {},
   "outputs": [
    {
     "data": {
      "text/plain": [
       "dict_keys(['', 'VERB', 'ADJ', 'SYM', 'CCONJ', 'NUM', 'X', 'PART', 'AUX', 'NOUN', 'INTJ', 'ADP', 'ADV', 'CONJ', 'PROPN', 'SCONJ', 'PUNCT', 'PRON', 'EOL', 'SPACE', 'DET'])"
      ]
     },
     "execution_count": 122,
     "metadata": {},
     "output_type": "execute_result"
    }
   ],
   "source": [
    "IDS.keys()"
   ]
  },
  {
   "cell_type": "code",
   "execution_count": null,
   "metadata": {},
   "outputs": [],
   "source": []
  }
 ],
 "metadata": {
  "kernelspec": {
   "display_name": "Python 3",
   "language": "python",
   "name": "python3"
  },
  "language_info": {
   "codemirror_mode": {
    "name": "ipython",
    "version": 3
   },
   "file_extension": ".py",
   "mimetype": "text/x-python",
   "name": "python",
   "nbconvert_exporter": "python",
   "pygments_lexer": "ipython3",
   "version": "3.5.3"
  },
  "toc": {
   "base_numbering": 1,
   "nav_menu": {},
   "number_sections": false,
   "sideBar": false,
   "skip_h1_title": false,
   "title_cell": "Table of Contents",
   "title_sidebar": "Contents",
   "toc_cell": false,
   "toc_position": {},
   "toc_section_display": false,
   "toc_window_display": false
  },
  "varInspector": {
   "cols": {
    "lenName": 16,
    "lenType": 16,
    "lenVar": 40
   },
   "kernels_config": {
    "python": {
     "delete_cmd_postfix": "",
     "delete_cmd_prefix": "del ",
     "library": "var_list.py",
     "varRefreshCmd": "print(var_dic_list())"
    },
    "r": {
     "delete_cmd_postfix": ") ",
     "delete_cmd_prefix": "rm(",
     "library": "var_list.r",
     "varRefreshCmd": "cat(var_dic_list()) "
    }
   },
   "types_to_exclude": [
    "module",
    "function",
    "builtin_function_or_method",
    "instance",
    "_Feature"
   ],
   "window_display": false
  }
 },
 "nbformat": 4,
 "nbformat_minor": 2
}
